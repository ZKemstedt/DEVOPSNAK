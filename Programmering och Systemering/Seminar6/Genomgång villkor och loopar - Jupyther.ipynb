{
 "cells": [
  {
   "cell_type": "markdown",
   "metadata": {},
   "source": [
    "Uppgift 1. Skriv ett program som hälsar användaren 10 gånger."
   ]
  },
  {
   "cell_type": "code",
   "execution_count": 27,
   "metadata": {},
   "outputs": [
    {
     "name": "stdout",
     "output_type": "stream",
     "text": [
      "Hello user\n",
      "Hello user\n",
      "Hello user\n",
      "Hello user\n",
      "Hello user\n",
      "Hello user\n",
      "Hello user\n",
      "Hello user\n",
      "Hello user\n",
      "Hello user\n"
     ]
    }
   ],
   "source": [
    "\n",
    "indx = 0\n",
    "\n",
    "while indx < 10: #räknaren går från 0-9, mao 10 gånger\n",
    "\tprint(\"Hello user\")\n",
    "\tindx+=1"
   ]
  },
  {
   "cell_type": "markdown",
   "metadata": {},
   "source": [
    "Uppgift 2. Skriv ett program (med for-loop) som skriver ut följande: \\\n",
    "1 \\\n",
    "22 \\\n",
    "333 \\\n",
    "4444 \\\n",
    "55555 \\\n",
    "666666 \\\n",
    "7777777\\\n",
    "88888888\\\n",
    "999999999\n"
   ]
  },
  {
   "cell_type": "code",
   "execution_count": 35,
   "metadata": {},
   "outputs": [
    {
     "name": "stdout",
     "output_type": "stream",
     "text": [
      "\r\n",
      "1\r\n",
      "22\r\n",
      "333\r\n",
      "4444\r\n",
      "55555\r\n",
      "666666\r\n",
      "7777777\r\n",
      "88888888\r\n",
      "999999999\r\n"
     ]
    }
   ],
   "source": [
    "for indx in range(10): #n.b. range går -upp till- 10, ej inklusive\n",
    "    for second_indx in range(indx): #gå igenom alla tal från 0 till nuvarande varvets tal\n",
    "        print(indx, end=\"\") #utan end=\"\" får vi ny rad efter varje print\n",
    "    print(\"\\r\") #när vi är klara att printa denna runda tal, gå till start av rad"
   ]
  },
  {
   "cell_type": "markdown",
   "metadata": {},
   "source": [
    "Alternativ lösning:"
   ]
  },
  {
   "cell_type": "code",
   "execution_count": 38,
   "metadata": {},
   "outputs": [
    {
     "name": "stdout",
     "output_type": "stream",
     "text": [
      "\n",
      "1\n",
      "22\n",
      "333\n",
      "4444\n",
      "55555\n",
      "666666\n",
      "7777777\n",
      "88888888\n",
      "999999999\n",
      "10101010101010101010\n",
      "1111111111111111111111\n",
      "121212121212121212121212\n",
      "13131313131313131313131313\n",
      "1414141414141414141414141414\n",
      "151515151515151515151515151515\n",
      "16161616161616161616161616161616\n",
      "1717171717171717171717171717171717\n",
      "181818181818181818181818181818181818\n",
      "19191919191919191919191919191919191919\n"
     ]
    }
   ],
   "source": [
    "for indx in range(10):\n",
    "   print(str(indx)*indx) #gånger-tecknet gör att print upprepar det som står i string:en index antal gånger"
   ]
  },
  {
   "cell_type": "markdown",
   "metadata": {},
   "source": [
    "3. Skriv ett program som låter användaren gissa vilket tal du tänker på tills användaren\n",
    "gissar rätt. \\\n",
    "Talet har du hårdkodat in i programmet och gissningen från användaren hämtas in via\n",
    "input gång på gång tills dess att gissning == input."
   ]
  },
  {
   "cell_type": "code",
   "execution_count": 39,
   "metadata": {},
   "outputs": [
    {
     "name": "stdout",
     "output_type": "stream",
     "text": [
      "Enter an integer from 1 to 99: 3\n",
      "guess is too low\n",
      "Enter an integer from 1 to 99: 79\n",
      "guess is too high\n",
      "Enter an integer from 1 to 99: 42\n",
      "you guessed it!\n",
      "Well done guessing\n"
     ]
    }
   ],
   "source": [
    "secret = 42\n",
    "guess = 0\n",
    "\n",
    "while secret != guess:\n",
    "\tguess = int(input(\"Enter an integer from 1 to 99: \")) \n",
    "    #Input hämtas här, kontrollen att secret !=guess görs senare. \n",
    "    #Därav exekveras else-satsen om guess ==secret, därefter skrivs Well done guessing ut\n",
    "\tif guess < secret:\n",
    "\t\tprint(\"guess is too low\")  \n",
    "\telif guess > secret:\n",
    "\t\tprint(\"guess is too high\")\n",
    "\telse:\n",
    "\t\tprint(\"you guessed it!\")\n",
    "\t\tbreak\n",
    "print(\"Well done guessing\")"
   ]
  },
  {
   "cell_type": "markdown",
   "metadata": {},
   "source": [
    "Uppgift 4\n",
    "Skriv ett program som loopar över en lista innehållandes olika tal. \\\n",
    "Om programmet stöter\n",
    "på ett ojämnt tal skrivs orden “Not allowed!” ut och loopen avbryts"
   ]
  },
  {
   "cell_type": "code",
   "execution_count": 31,
   "metadata": {},
   "outputs": [
    {
     "name": "stdout",
     "output_type": "stream",
     "text": [
      "Number not allowed 7\n"
     ]
    }
   ],
   "source": [
    "\n",
    "number_array = [0, 2, 4, 6, 7, 8]\n",
    "for number in number_array:\n",
    "\tif(number % 2 !=0): #om ej är jämt delbart med 2, dvs om talet är udda.\n",
    "\t\tprint(\"Number not allowed\", number)\n",
    "\t\tbreak\n"
   ]
  },
  {
   "cell_type": "markdown",
   "metadata": {},
   "source": [
    "Uppgift 5 \\\n",
    "Genom att använda en for-loop, skriv ett program som för varje tal i second_list, hämtar \\\n",
    "talet och dess position i first_list och skriver resultatet som en lista av tupler."
   ]
  },
  {
   "cell_type": "code",
   "execution_count": 4,
   "metadata": {},
   "outputs": [
    {
     "name": "stdout",
     "output_type": "stream",
     "text": [
      "[(2, 3), (3, 0), (6, 4), (7, 1), (9, 2)]\n"
     ]
    }
   ],
   "source": [
    "first_list = [3, 7 ,9, 2, 6]\n",
    "second_list = [2, 3, 6, 7, 9]\n",
    "\n",
    "result = []\n",
    "for number in second_list: #Gå igenom alla tal i second_list\n",
    "\tresult.append((number, first_list.index(number))) #hämta talets index i den första listan.\n",
    "    #Lägg talet i en tupel tillsammans med detta index, och lägg till det i resultatlistan\n",
    "print(result)"
   ]
  },
  {
   "cell_type": "markdown",
   "metadata": {},
   "source": [
    "Uppgift 6 \\\n",
    "Upprepa uppgiften ovan, men använd denna gång list comprehension för att lösa\n",
    "problemet."
   ]
  },
  {
   "cell_type": "code",
   "execution_count": 5,
   "metadata": {},
   "outputs": [
    {
     "name": "stdout",
     "output_type": "stream",
     "text": [
      "[(2, 3), (3, 0), (6, 4), (7, 1), (9, 2)]\n"
     ]
    }
   ],
   "source": [
    "print([(number, first_list.index(number)) for number in second_list])\n",
    "#Ta den gamla listan, gå igenom alla talen i den. Sätt in dem i en tupel tillsammans med talets index i first_list"
   ]
  },
  {
   "cell_type": "code",
   "execution_count": 8,
   "metadata": {},
   "outputs": [
    {
     "name": "stdout",
     "output_type": "stream",
     "text": [
      "[(2, 3), (3, 0), (6, 4), (7, 1), (9, 2)]\n"
     ]
    }
   ],
   "source": [
    "result_list = [(number, first_list.index(number)) for number in second_list]\n",
    "print(result_list)"
   ]
  },
  {
   "cell_type": "markdown",
   "metadata": {},
   "source": [
    "Uppgift 7 - Handlingskorg \\\n",
    "Du har följande lista på frukter: \\\n",
    "fruits = ['apple', 'orange', 'pear', 'banana', 'grapes'] \\\n",
    "Skriv ett program som frågar användaren efter hur många platser för frukt hen har i sin \\\n",
    "korg, och sedan fyller du denna korg (en lista) med frukter genom att loopa igenom \\\n",
    "frukt-listan tills dess att korg-listan är full."
   ]
  },
  {
   "cell_type": "code",
   "execution_count": 41,
   "metadata": {},
   "outputs": [
    {
     "name": "stdout",
     "output_type": "stream",
     "text": [
      "['apple', 'orange', 'pear', 'banana', 'grapes', 'apple', 'orange', 'pear', 'banana', 'grapes']\n"
     ]
    }
   ],
   "source": [
    "space_in_basket = 10\n",
    "my_basket = []\n",
    "fruits = ['apple', 'orange', 'pear', 'banana', 'grapes']\n",
    "\n",
    "for indx in range(space_in_basket):\n",
    "\tcurrent_fruit_number = indx % len(fruits) #modulo ser till att vi inte \"trillar över kanten\" på index\n",
    "\tcurrent_fruit = fruits[current_fruit_number]\n",
    "\tmy_basket.append(current_fruit)\n",
    "\n",
    "print(my_basket)"
   ]
  },
  {
   "cell_type": "markdown",
   "metadata": {},
   "source": [
    "Skriv ett program som använder sig av nästlade while-loopar för att skriva ut alla primtal\n",
    "som är mindre än 100. \\\n",
    "Vägledning: Primtal är ett tal som är större än 1 och som inte går att dela jämnt med \\\n",
    "något tal annat än sig själv och 1. "
   ]
  },
  {
   "cell_type": "code",
   "execution_count": 23,
   "metadata": {},
   "outputs": [
    {
     "name": "stdout",
     "output_type": "stream",
     "text": [
      "2  is prime\n",
      "3  is prime\n",
      "5  is prime\n",
      "7  is prime\n",
      "11  is prime\n",
      "13  is prime\n",
      "17  is prime\n",
      "19  is prime\n",
      "23  is prime\n",
      "29  is prime\n",
      "31  is prime\n",
      "37  is prime\n",
      "41  is prime\n",
      "43  is prime\n",
      "47  is prime\n",
      "53  is prime\n",
      "59  is prime\n",
      "61  is prime\n",
      "67  is prime\n",
      "71  is prime\n",
      "73  is prime\n",
      "79  is prime\n",
      "83  is prime\n",
      "89  is prime\n",
      "97  is prime\n",
      "Good bye!\n"
     ]
    }
   ],
   "source": [
    "i = 2\n",
    "while(i < 100):\n",
    "   j = 2\n",
    "   while(j <i):\n",
    "      if not(i%j): #alltså, om i modulo j INTE är lika med 0. Ex. 5%2 uppfyller detta krav \n",
    "        break\n",
    "      j = j + 1\n",
    "   if (j > i/j) : \n",
    "       print( i, \" is prime\")\n",
    "   i = i + 1\n",
    "\n",
    "print(\"Good bye!\")"
   ]
  },
  {
   "cell_type": "markdown",
   "metadata": {},
   "source": [
    "1. Din uppgift är nu att skriva ett program som krypterar text enligt någon form av \\\n",
    "caesarskiffer (du får alltså själv välja hur många skiftningar du vill göra).\n",
    "2. Skriv ett program som låtar användaren mata in hur många skiftningar hen vill ha, och \\\n",
    "därefter mata in den text som hen vill få krypterad"
   ]
  },
  {
   "cell_type": "code",
   "execution_count": 42,
   "metadata": {},
   "outputs": [
    {
     "name": "stdout",
     "output_type": "stream",
     "text": [
      "Please write the text you wish to get encrypted God morgon\n",
      "Please write the amount of shifts you'd like to use 3\n",
      "Wrong format, only letters allowed\n",
      "Forbidden input was:  \n",
      "['j', 'r', 'g', 'p', 'r', 'u', 'j', 'r', 'q']\n"
     ]
    }
   ],
   "source": [
    "input_text = input(\"Please write the text you wish to get encrypted \")\n",
    "input_text = input_text.lower()\n",
    "step = int(input(\"Please write the amount of shifts you'd like to use \"))\n",
    "\n",
    "encrypted_text = []\n",
    "alphabet = ['a', 'b', 'c', 'd', 'e', 'f', 'g', 'h', 'i', 'j', 'k', 'l', 'm', 'n', 'o', 'p', 'q', 'r', 's', 't', 'u', 'v', 'w', 'x', 'y', 'z', 'å', 'ä','ö']\n",
    "\n",
    "for letter in input_text:\n",
    "\tif letter in alphabet:\n",
    "\t\tindex = alphabet.index(letter)\n",
    "\t\tcrypto_index = (index + step) % 29 #modulo igen! för att se till att index < len(minLista)\n",
    "\t\tencrypted_letter = alphabet[crypto_index]\n",
    "\t\tencrypted_text.append(encrypted_letter)\n",
    "\telse:\n",
    "\t\tprint(\"Wrong format, only letters allowed\")\n",
    "\t\tprint(\"Forbidden input was: \" + letter)\n",
    "\n",
    "\n",
    "print(encrypted_text)"
   ]
  }
 ],
 "metadata": {
  "kernelspec": {
   "display_name": "Python 3",
   "language": "python",
   "name": "python3"
  }
 },
 "nbformat": 4,
 "nbformat_minor": 2
}
