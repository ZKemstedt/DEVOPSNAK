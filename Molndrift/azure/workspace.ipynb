{
 "cells": [
  {
   "cell_type": "code",
   "execution_count": null,
   "metadata": {},
   "outputs": [],
   "source": [
    "!az login\n",
    "\n",
    "# bonus: rdp by winRM https://docs.microsoft.com/en-us/azure/virtual-machines/windows/winrm"
   ]
  },
  {
   "cell_type": "code",
   "execution_count": 67,
   "metadata": {},
   "outputs": [],
   "source": [
    "# images\n",
    "windows = 'Win2019Datacenter'\n",
    "# windows = 'Win2019Server'\n",
    "ubuntu = 'UbuntuLTS'\n",
    "\n",
    "class VM:\n",
    "    def __init__(self, name, group, location, kwargs):\n",
    "        self.name = name\n",
    "        self.group = group\n",
    "        self.location = location\n",
    "        self.kwargs = kwargs\n",
    "    \n",
    "    def argstring(self) -> str:\n",
    "        return f'-n {self.name} -g {self.group} -l {self.location} ' + ' '.join([f'--{arg} {val}' for arg, val in self.kwargs.items()])\n",
    "\n",
    "def create_group(name: str, location: str) -> None:\n",
    "    !az group create -n $name -l $location\n",
    "\n",
    "def create_vnet(name: str, group: str, location: str, addr_prf: str, subnet: str) -> None:\n",
    "    !az network vnet create -n $name -g $group -l $location --address-prefix $addr_prf --subnet-name $subnet\n",
    "\n",
    "def create_vm(vm: VM) -> None:\n",
    "    text = vm.argstring()\n",
    "    !az vm create $text\n",
    "\n",
    "def create_all(location: str, group: str, vnet: str, addr_prf: str, subnet: str, vms: list[dict[str, str]]) -> None:\n",
    "\n",
    "    # Resource Group\n",
    "    create_group(group, location)\n",
    "\n",
    "    # Virtual Network + Subnet\n",
    "    create_vnet(vnet, group, location, addr_prf, subnet)\n",
    "\n",
    "    # Virtual Machines\n",
    "    for vm in vms:\n",
    "        create_vm(vm)\n",
    "\n",
    "def create_vnet_peering(name: str, group: str, src: str, dst_name: str) -> None:\n",
    "    # get dst vnet id\n",
    "    dst = !az network vnet show -g $group -n $src --query id --out tsv\n",
    "    dst = dst[0]\n",
    "\n",
    "    !az network vnet peering create -n $name -g $group --vnet-name $src --remove-vnet $dst --allow-vnet-access"
   ]
  },
  {
   "cell_type": "code",
   "execution_count": null,
   "metadata": {},
   "outputs": [],
   "source": [
    "# Europe\n",
    "eulocation = 'northeurope'\n",
    "eugroup = 'eugroup'\n",
    "euvnet = 'euvnet'\n",
    "euaddr_prf = '10.1.0.0/16'\n",
    "eusubnet = 'eusubnet'\n",
    "\n",
    "euvms = [\n",
    "    VM('VM_Windows', eugroup, eulocation, {'image': windows, 'admin-user': 'azureuser', 'admin-password': 'linux4everlinux4ever!', 'public-ip-sku': 'Standard'}),\n",
    "    VM('VM_Ubuntu', eugroup, eulocation, {'image': ubuntu, 'admin-user': 'azureuser', 'ssh-key-values': 'azure.pub', 'public-ip-sku': 'Standard'})\n",
    "]"
   ]
  },
  {
   "cell_type": "code",
   "execution_count": null,
   "metadata": {},
   "outputs": [],
   "source": [
    "# Canada\n",
    "calocation = 'canadaeast'\n",
    "cagroup = 'cagroup'\n",
    "cavnet = 'cavnet'\n",
    "caaddr_prf = '10.2.0.0/16'\n",
    "casubnet = 'casubnet'\n",
    "\n",
    "cavms = [\n",
    "    VM('VM_Ubuntu', cagroup, calocation, {'image': ubuntu, 'admin-user': 'azureuser', 'ssh-key-values': 'azure.pub', 'public-ip-sku': 'Standard'})\n",
    "]"
   ]
  },
  {
   "cell_type": "code",
   "execution_count": null,
   "metadata": {},
   "outputs": [],
   "source": [
    "create_group(eugroup, eulocation)\n",
    "create_group(cagroup, calocation)\n",
    "\n",
    "create_vnet(euvnet, eugroup, eulocation, euaddr_prf, eusubnet)\n",
    "create_vnet(cavnet, cagroup, calocation, caaddr_prf, casubnet)\n",
    "\n",
    "linkvnet_eu_ca = 'linkvnet_eu_ca'\n",
    "linkvnet_ca_eu = 'linkvnet_ca_eu'\n",
    "\n",
    "!az network vnet peering create -n $linkvnet_eu_ca -g $eugroup --vnet-name $euvnet --remote-vnet $ca_net_id --allow-vnet-access\n",
    "!az network vnet peering create -n $linkvnet_ca_eu -g $cagroup --vnet-name $cavnet --remote-vnet $eu_net_id --allow-vnet-access\n",
    "\n",
    "create_vm(euvms[0]) # Windows Datacenter 2019\n",
    "create_vm(euvms[1]) # UbuntuVM\n",
    "create_vm(cavms[0]) # UbuntuVM\n",
    "\n",
    "# create_all(eulocation, eugroup, euvnet, euaddr_prf, eusubnet, euvms) \n",
    "# create_all(calocation, cagroup, cavnet, caaddr_prf, casubnet, cavms)"
   ]
  },
  {
   "cell_type": "code",
   "execution_count": null,
   "metadata": {},
   "outputs": [],
   "source": [
    "# CLUTTER\n",
    "\n",
    "# AADDS\n",
    "# _name = 'zwedditDS'\n",
    "# _group = 'eugroup'\n",
    "# _domain = 'zweddit.onmicrosoft.com'\n",
    "# _replica = ''\n",
    "\n",
    "# !az ad ds create -n $_name -g $_group --domain $_domain --replica-sets $_replica --tls-v1 'Disabled'\n",
    "\n",
    "# az network p2s-vpn-gateway create\n",
    "\n",
    "# 2 rules for ICMP\n",
    "# 1 \"gateway subnet\"\n",
    "# 1 virtual network gateway + 1 public ip name\n",
    "# certificates >.>"
   ]
  },
  {
   "cell_type": "code",
   "execution_count": null,
   "metadata": {},
   "outputs": [],
   "source": [
    "# Destroy\n",
    "!az group delete -n $eugroup -y\n",
    "!az group delete -n $cagroup -y"
   ]
  }
 ],
 "metadata": {
  "interpreter": {
   "hash": "b460384b52104c1e5b9cf54bee46a255d22b2bef338f75ac4ad5d48196028d3c"
  },
  "kernelspec": {
   "display_name": "Python 3.10.0 64-bit",
   "name": "python3"
  },
  "language_info": {
   "codemirror_mode": {
    "name": "ipython",
    "version": 3
   },
   "file_extension": ".py",
   "mimetype": "text/x-python",
   "name": "python",
   "nbconvert_exporter": "python",
   "pygments_lexer": "ipython3",
   "version": "3.10.0"
  },
  "orig_nbformat": 4
 },
 "nbformat": 4,
 "nbformat_minor": 2
}
