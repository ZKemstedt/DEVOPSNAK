{
 "metadata": {
  "language_info": {
   "codemirror_mode": {
    "name": "ipython",
    "version": 3
   },
   "file_extension": ".py",
   "mimetype": "text/x-python",
   "name": "python",
   "nbconvert_exporter": "python",
   "pygments_lexer": "ipython3",
   "version": "3.8.3-final"
  },
  "orig_nbformat": 2,
  "kernelspec": {
   "name": "python3",
   "display_name": "Python 3"
  }
 },
 "nbformat": 4,
 "nbformat_minor": 2,
 "cells": [
  {
   "cell_type": "markdown",
   "metadata": {},
   "source": [
    "# Strängar"
   ]
  },
  {
   "cell_type": "markdown",
   "metadata": {},
   "source": [
    "## Exempel på strängar"
   ]
  },
  {
   "cell_type": "code",
   "execution_count": 197,
   "metadata": {
    "tags": []
   },
   "outputs": [],
   "source": [
    "\n",
    "firstname = \"johan\"\n",
    "lastname = \"andersson\"\n",
    "tele = \"00468123456789\"\n",
    "\n"
   ]
  },
  {
   "cell_type": "code",
   "execution_count": 198,
   "metadata": {
    "tags": []
   },
   "outputs": [
    {
     "output_type": "stream",
     "name": "stdout",
     "text": "johan andersson 00468123456789\n"
    }
   ],
   "source": [
    "# Uppgift 1: Skriv ut firstname lastname tele\n",
    "\n",
    "# Lösningsförslag 1\n",
    "print(f'{firstname} {lastname} {tele}')"
   ]
  },
  {
   "cell_type": "code",
   "execution_count": 199,
   "metadata": {
    "tags": []
   },
   "outputs": [
    {
     "output_type": "stream",
     "name": "stdout",
     "text": "johan andersson\njohan andersson\njohan andersson\n"
    }
   ],
   "source": [
    "# Uppgift 2: Skapa en variabel som heter fullname som tilldelas en sträng innehållande firstname och lastname.\n",
    "\n",
    "# Lösningsförslag 2:\n",
    "fullname = firstname + \" \" + lastname   #String concatenating\n",
    "print(fullname)\n",
    "\n",
    "#eller\n",
    "\n",
    "fullname = f'{firstname} {lastname}'    #f-string\n",
    "print(fullname)\n",
    "\n",
    "# eller\n",
    "\n",
    "fullname = \" \".join([firstname, lastname]) # join array with space\n",
    "print(fullname)\n"
   ]
  },
  {
   "cell_type": "code",
   "execution_count": 200,
   "metadata": {
    "tags": []
   },
   "outputs": [
    {
     "output_type": "stream",
     "name": "stdout",
     "text": "johan andersson 00468123456789\njohan andersson 00468123456789\njohan andersson 00468123456789\njohan andersson 00468123456789\n"
    }
   ],
   "source": [
    "# Uppgift 3: Skriv ut det hela namnet och tele med fyra olika metoder: enbart print(), f-string, format och printf (%).\n",
    "\n",
    "# Lösningsförslag 3:\n",
    "print(fullname + \" \" + tele) #print\n",
    "print(f'{fullname} {tele}') #f-string\n",
    "print('{fullname} {tele}'.format(fullname = fullname, tele=tele)) # format\n",
    "print('%s %s' % (fullname, tele)) # printf %"
   ]
  },
  {
   "cell_type": "code",
   "execution_count": 201,
   "metadata": {
    "tags": []
   },
   "outputs": [
    {
     "output_type": "stream",
     "name": "stdout",
     "text": "5\n9\n15\n"
    }
   ],
   "source": [
    "# Uppgift 4: Skriv ut längderna av firstname, lastname och fullname\n",
    "\n",
    "# Lösningsförlag 4:\n",
    "print(len(firstname))\n",
    "print(len(lastname))\n",
    "print(len(fullname))"
   ]
  },
  {
   "cell_type": "code",
   "execution_count": 202,
   "metadata": {
    "tags": []
   },
   "outputs": [
    {
     "output_type": "stream",
     "name": "stdout",
     "text": "14\n14\ncharacter_sum 14\nList Comprehensions 14\njohanandersson 14\n"
    }
   ],
   "source": [
    "# Uppgift 5: Skriv ut antal bokstäver i fullname\n",
    "\n",
    "# Lösningsförslag 5:\n",
    "\n",
    "# Ta bort space före och efter samt dra bort ett för space mellan\n",
    "\n",
    "# Om vi vet att det bara är ett \"space\".\n",
    "print(len(fullname) - 1)\n",
    "\n",
    "# Med en loop\n",
    "import string\n",
    "total_letters = 0\n",
    "for character in fullname:\n",
    "    if character in string.ascii_letters:\n",
    "        total_letters += 1\n",
    "print(total_letters)\n",
    "\n",
    "# sum\n",
    "character_sum = sum(1 for character in fullname if character in string.ascii_letters)\n",
    "print(f'character_sum {character_sum}')\n",
    "\n",
    "# List Comprehensions läs: https://docs.python.org/3/tutorial/datastructures.html#list-comprehensions\n",
    "print(f'List Comprehensions {len([character for character in fullname if character in string.ascii_letters])}')\n",
    "\n",
    "# Dela upp (split) på space och slå ihop (join)\n",
    "fullname_without_space = \"\".join(fullname.split())\n",
    "print(f'{fullname_without_space} {len(fullname_without_space)}')\n"
   ]
  },
  {
   "cell_type": "code",
   "execution_count": 212,
   "metadata": {
    "tags": []
   },
   "outputs": [
    {
     "output_type": "stream",
     "name": "stdout",
     "text": "regex_match_all_alphanumeric 13\n"
    }
   ],
   "source": [
    "# Extra exempel\n",
    "import re\n",
    "anotherName = 'Magnus Ladulås'\n",
    "\n",
    "# print([character for character in anotherName if character in string.ascii_letters])\n",
    "# print(re.findall(r'\\w', anotherName,re.ASCII))\n",
    "# print(re.findall(r'\\w', anotherName))\n",
    "\n",
    "regex_match_all_alphanumeric = re.findall(r'\\w', anotherName)\n",
    "print(f'regex_match_all_alphanumeric {len(regex_match_all_alphanumeric)}')"
   ]
  },
  {
   "cell_type": "code",
   "execution_count": 204,
   "metadata": {
    "tags": []
   },
   "outputs": [
    {
     "output_type": "stream",
     "name": "stdout",
     "text": "johan\n5\n"
    }
   ],
   "source": [
    "# Uppgift 5: slice:a fullname till de första 5 tecknen och beräkna längden\n",
    "\n",
    "# Lösningsförslag 5:\n",
    "print(fullname[:5])\n",
    "print(len(fullname[:5]))"
   ]
  },
  {
   "cell_type": "code",
   "execution_count": 205,
   "metadata": {
    "tags": []
   },
   "outputs": [
    {
     "output_type": "stream",
     "name": "stdout",
     "text": "JHNADRSN\n"
    }
   ],
   "source": [
    "# Uppgift 6: använd extended slice för att plocka ut varannat tecken samt skriv ut med bara stora tecken.\n",
    "\n",
    "# Lösningsförslag 6:\n",
    "print(fullname[::2].upper())"
   ]
  },
  {
   "cell_type": "code",
   "execution_count": 206,
   "metadata": {
    "tags": []
   },
   "outputs": [
    {
     "output_type": "stream",
     "name": "stdout",
     "text": "😀\n€\nrad1\nrad2\n"
    }
   ],
   "source": [
    "# Uppgift 7: \n",
    "#   Skriv ut en smiley från unicode med hjälp av \\N{tecken namn}\n",
    "#   Skriv ut ett euro tecken med hjälp av unicode https://www.unicode.org/charts/PDF/U20A0.pdf\n",
    "#   Skriv ut två stränger med ett radbryt med hjälp av en escapesekvens\n",
    "\n",
    "# Lösningsförslag 7:\n",
    "print('\\N{GRINNING FACE}')\n",
    "print('\\u20AC')\n",
    "print(\"rad1\\nrad2\")"
   ]
  },
  {
   "cell_type": "code",
   "execution_count": 207,
   "metadata": {
    "tags": []
   },
   "outputs": [
    {
     "output_type": "stream",
     "name": "stdout",
     "text": "hex value 0x44 gives charecter:\t\tD\n"
    }
   ],
   "source": [
    "# Uppgift 8:\n",
    "#   Skriv en sträng med två fungerande escapesekvenser exempelvis tab och ett unicode tecken\n",
    "\n",
    "# Lösningsförslag 8:\n",
    "print(\"hex value 0x44 gives charecter:\\t\\t\\x44\")"
   ]
  },
  {
   "cell_type": "code",
   "execution_count": 208,
   "metadata": {
    "tags": []
   },
   "outputs": [
    {
     "output_type": "stream",
     "name": "stdout",
     "text": "'en sträng'\n\"en sträng\"\n'en sträng'\n\"en sträng\"\n"
    }
   ],
   "source": [
    "# Uppgift 9:\n",
    "# Skriv ut två strängar, där den första ska ha enkelt rakt citattecken och den andra dubbla rakt citattecken\n",
    "# t.ex \n",
    "# 'string1'\n",
    "# \"string2\"\n",
    "\n",
    "# Lösningsförslag 9:\n",
    "# mha. escape\n",
    "print(f'\\'en sträng\\'')\n",
    "print(f'\"en sträng\"')\n",
    "\n",
    "# via unicode namn\n",
    "print(f'\\N{Apostrophe}en sträng\\N{Apostrophe}')\n",
    "print(f'\\N{Quotation mark}en sträng\\N{Quotation mark}')\n"
   ]
  },
  {
   "cell_type": "code",
   "execution_count": 209,
   "metadata": {
    "tags": []
   },
   "outputs": [
    {
     "output_type": "stream",
     "name": "stdout",
     "text": "Kalle Johnsson\nkalle.jonsson@example.com\n☎ +4608123456789\n$ 220,000.38\n"
    }
   ],
   "source": [
    "# Uppgift 10: Skriv ett program som läser in förnamn, efternamn, epost, telefon och önskad lönenivå. Programmet ska formatera användarens input fint så att för och efternan har en första stor bokstav, lönenivån ska formateras på amerikanskt vis med \"1000,00\" vid tusental och telefonnumret ska ha en telefonsymbol framför sig\" (tips sätt locale till en_US)\n",
    "\n",
    "# Lösningsförslag\n",
    "\n",
    "# import locale\n",
    "# locale.setlocale(locale.LC_ALL, 'en_US')\n",
    "# locale.setlocale(locale.LC_ALL, 'sv_SE')\n",
    "\n",
    "'''\n",
    "first_name = input(\"Förnamn: \")\n",
    "last_name = input(\"Efternamn: \")\n",
    "email = input(\"Email: \")\n",
    "tele = input(\"Telefonnummer: \")\n",
    "salary = float(input(\"Önskad lön: \"))\n",
    "'''\n",
    "\n",
    "first_name = \"Kalle\"\n",
    "last_name = \"johnsson\"\n",
    "email = \"kalle.jonsson@example.com\"\n",
    "tele = \"+4608123456789\"\n",
    "salary = 220000.377\n",
    "\n",
    "text_output = (\n",
    "    f'{first_name.capitalize()} {last_name.capitalize()}\\n'\n",
    "    f'{email}\\n'\n",
    "    f'\\u260E {tele}\\n'\n",
    "    f'\\u0024 {salary:,.2f}'\n",
    "    # f'\\u0024 {salary:n}'\n",
    ")\n",
    "print(text_output)\n"
   ]
  },
  {
   "cell_type": "code",
   "execution_count": 210,
   "metadata": {
    "tags": []
   },
   "outputs": [],
   "source": [
    "# Om ni vill hantera fel i input\n",
    "\n",
    "def float_input(message, retries = 3):\n",
    "    try:\n",
    "        return float(input(message))\n",
    "    except ValueError:\n",
    "        if(retries > 0):\n",
    "            retries -= 1\n",
    "            return float_input(f'[Försök ingen med en float] {message}', retries)\n",
    "        raise\n",
    "\n",
    "salary = float_input(\"Önskad lön: \")"
   ]
  },
  {
   "cell_type": "markdown",
   "metadata": {},
   "source": [
    "## Uppgift 11\n",
    "\n",
    "Skriv ett program som börjar med strängen \"Jag tYcker om äGg\" och i\n",
    "slutändan skriver ut strängen \"jAG tYCKER iNTE oM SPAM\"\n",
    "\n",
    "### Specification\n",
    "1. Följande strängar är de enda som får hårdkodas:\n",
    "- (a) \"Jag tYcker om äGg\"\n",
    "- (b) \"inte\"\n",
    "- (c) \"SPAM\"\n",
    "- (d) \" \" (Alltså ett mellanslag)\n",
    "2. Programmet ska INTE ta någon användarinput\n",
    "3. Följande strängmetoder får användas:\n",
    "- (a) capitalize()\n",
    "- (b) join()\n",
    "- (c) lower()\n",
    "- (d) upper()\n",
    "- (e) swapcase()\n",
    "- (f) replace()\n",
    "- (g) split()\n",
    "- (h) rsplit()\n",
    "- (i) title()\n",
    "- (j) format()\n",
    "4. Programmet ska skriva ut vad som gjorts samt hur strängen ser ut efter\n",
    "varje genomförd rad.\n",
    "\n",
    "## Uppgift\n",
    "1. Tilldela de hårdkodade strängarna till varsing variabel.\n",
    "2. Kör någon av metoderna på strängen, exempelvis inital_string.capitalize()\n",
    "3. Skriv ut strängen genom att följa raden ovan med en print-rad. Vad hände?\n",
    "Varför?\n",
    "4. Skriv in hela uttrycket från punkt 2 i print-kommandot. Fungerade det\n",
    "annorlunda nu? Varför?\n",
    "5. Skriv det som en tilldelning, det vill säga:\n",
    "capitalized_string = initial_string.capitalize()\n",
    "6. Skriv ut den nya strängen. Vad blev resultatet nu?\n",
    "7. Använd det du lärt dig i stegen ovan för att skriva ett program som uppfyller\n",
    "specifkationerna. För att ta reda på vad metoderna göra så kan du\n",
    "antingen googla, eller helt enkelt testa dig fram."
   ]
  },
  {
   "cell_type": "code",
   "execution_count": 215,
   "metadata": {
    "tags": []
   },
   "outputs": [
    {
     "output_type": "stream",
     "name": "stdout",
     "text": "Jag tYcker om äGg\nJAG TYCKER OM ÄGG\nJAG TYCKER OM ÄGG\njAG tYCKER iNTE oM SPAM\njAG tYCKER iNTE oM SPAM\njAG tYCKER iNTE oM SPAM\njAG tYCKER iNTE oM SPAM\n"
    }
   ],
   "source": [
    "# Lösningsförslag 11\n",
    "# Skriv ett program som börjar med strängen \"Jag tYcker om äGg\" och i slutändan skriver ut strängen \"jAG tYCKER iNTE oM SPAM\"\n",
    "\n",
    "# 1) Tilldela de hårdkodade strängarna till varsing variabel.\n",
    "initial_string = \"Jag tYcker om äGg\"\n",
    "neg = \"inte\"\n",
    "spam = \"SPAM\"\n",
    "space = \" \"\n",
    "\n",
    "# 2) Kör någon av metoderna på strängen, exempelvis inital_string.capitalize()\n",
    "initial_string.upper()\n",
    "\n",
    "# 3) Skriv ut strängen genom att följa raden ovan med en print-rad. Vad hände? Varför?\n",
    "print(initial_string) # Strängar är Immutable\n",
    "\n",
    "# 4) Skriv in hela uttrycket från punkt 2 i print-kommandot. Fungerade det annorlunda nu? Varför?\n",
    "print(initial_string.upper()) \n",
    "\n",
    "# 5) Skriv det som en tilldelning, det vill säga: capitalized_string = initial_string.capitalize()\n",
    "capitalized_string = initial_string.upper()\n",
    "\n",
    "# 6) Skriv ut den nya strängen. Vad blev resultatet nu?\n",
    "print(capitalized_string)\n",
    "\n",
    "# 7) Använd det du lärt dig i stegen ovan för att skriva ett program som uppfyller specifkationerna. För att ta reda på vad metoderna göra så kan du antingen googla, eller helt enkelt testa dig fram.\n",
    "\n",
    "#SPLIT lösning\n",
    "splitted = initial_string.split()\n",
    "\n",
    "# Enkel lösning\n",
    "print(space.join(splitted[:2]).title().swapcase() + space + neg.capitalize().swapcase() + space + splitted[2].capitalize().swapcase() + space + spam)\n",
    "\n",
    "# De fyra första har samma mönster\n",
    "four_first_words = space.join(splitted[:2] + [neg] + [splitted[2]]).title().swapcase()\n",
    "result = space.join([four_first_words, spam.upper()])\n",
    "print(result)\n",
    "\n",
    "# rplit lösning\n",
    "rsplitted = initial_string.rsplit(space, 2)\n",
    "dont_like = space.join([rsplitted[0], neg, rsplitted[1]]).title().swapcase()\n",
    "print(space.join([dont_like, spam.upper()]))\n",
    "\n",
    "# rplit steg för steg\n",
    "rsplitted = initial_string.rsplit(space, 2)\n",
    "i_think = rsplitted[0]\n",
    "about = rsplitted[1]\n",
    "\n",
    "wordlist_to_swap = [i_think, neg, about]\n",
    "swapped_part = space.join(wordlist_to_swap).title().swapcase()\n",
    "\n",
    "final_list = [swapped_part, spam.upper()]\n",
    "result = space.join(final_list)\n",
    "\n",
    "print(result)\n",
    "\n",
    "\n",
    "\n",
    "\n",
    "\n",
    "\n",
    "\n"
   ]
  },
  {
   "cell_type": "code",
   "execution_count": null,
   "metadata": {},
   "outputs": [],
   "source": []
  }
 ]
}