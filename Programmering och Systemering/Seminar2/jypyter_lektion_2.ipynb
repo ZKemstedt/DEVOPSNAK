{
 "cells": [
  {
   "cell_type": "markdown",
   "metadata": {},
   "source": [
    "# Variabler och tilldelningar\n",
    "\n",
    "Tilldelning görs med ="
   ]
  },
  {
   "cell_type": "code",
   "execution_count": 58,
   "metadata": {},
   "outputs": [],
   "source": [
    "a_variable = 5\n",
    "another_variable = 5 + 2\n",
    "the_third_variable = a_variable + another_variable"
   ]
  },
  {
   "cell_type": "code",
   "execution_count": 59,
   "metadata": {},
   "outputs": [
    {
     "output_type": "execute_result",
     "data": {
      "text/plain": "5"
     },
     "metadata": {},
     "execution_count": 59
    }
   ],
   "source": [
    "a_variable"
   ]
  },
  {
   "cell_type": "code",
   "execution_count": 60,
   "metadata": {},
   "outputs": [
    {
     "output_type": "execute_result",
     "data": {
      "text/plain": "7"
     },
     "metadata": {},
     "execution_count": 60
    }
   ],
   "source": [
    "another_variable"
   ]
  },
  {
   "cell_type": "code",
   "execution_count": 61,
   "metadata": {},
   "outputs": [
    {
     "output_type": "execute_result",
     "data": {
      "text/plain": "12"
     },
     "metadata": {},
     "execution_count": 61
    }
   ],
   "source": [
    "the_third_variable"
   ]
  },
  {
   "cell_type": "markdown",
   "metadata": {},
   "source": [
    "# Namngivning"
   ]
  },
  {
   "cell_type": "code",
   "execution_count": null,
   "metadata": {},
   "outputs": [],
   "source": [
    "# Namngivning pep8\n",
    "firstname=\"Johan\"\n",
    "lastname=\"Nilsson\"\n",
    "city=\"Stockholm\"\n",
    "country=\"Sweden\"\n",
    "\n",
    "pizza_cheese = \"mozarella\"\n",
    "\n",
    "# Undvik icke standard ASCII\n",
    "ö = \"Gotland\"\n",
    "print(ö)\n",
    "\n",
    "#CamelCase används inte\n",
    "pizzaCheese = \"regular\""
   ]
  },
  {
   "cell_type": "markdown",
   "metadata": {},
   "source": [
    "# Typer"
   ]
  },
  {
   "cell_type": "code",
   "execution_count": 64,
   "metadata": {
    "tags": []
   },
   "outputs": [
    {
     "output_type": "stream",
     "name": "stdout",
     "text": "<class 'bool'>\n"
    }
   ],
   "source": [
    "boolean = type(True)\n",
    "integer = type(1)\n",
    "decimal = type(1.0)\n",
    "string = type(\"En sträng\")"
   ]
  },
  {
   "cell_type": "code",
   "execution_count": 65,
   "metadata": {},
   "outputs": [
    {
     "output_type": "execute_result",
     "data": {
      "text/plain": "bool"
     },
     "metadata": {},
     "execution_count": 65
    }
   ],
   "source": [
    "boolean"
   ]
  },
  {
   "cell_type": "code",
   "execution_count": 66,
   "metadata": {},
   "outputs": [
    {
     "output_type": "execute_result",
     "data": {
      "text/plain": "float"
     },
     "metadata": {},
     "execution_count": 66
    }
   ],
   "source": [
    "decimal"
   ]
  },
  {
   "cell_type": "markdown",
   "metadata": {},
   "source": [
    "# Operationer"
   ]
  },
  {
   "cell_type": "code",
   "execution_count": 7,
   "metadata": {},
   "outputs": [],
   "source": [
    "a = 3\n",
    "a = a +1\n",
    "b = 2 * a\n",
    "c = (a + b)/a\n",
    "d = a ** 2\n",
    "i = 20\n",
    "j = 12\n",
    "k = i % j"
   ]
  },
  {
   "cell_type": "markdown",
   "metadata": {},
   "source": [
    "## Vissa operatorer kan kombineras med tilldelning för att det ska vara kortare att skriva:"
   ]
  },
  {
   "cell_type": "code",
   "execution_count": 12,
   "metadata": {
    "tags": []
   },
   "outputs": [],
   "source": [
    "changing_variable = 1\n",
    "\n",
    "changing_variable += 3\n",
    "\n",
    "changing_variable -= 2\n",
    "\n",
    "changing_variable *= 3\n",
    "\n",
    "changing_variable /= 2"
   ]
  },
  {
   "cell_type": "code",
   "execution_count": 13,
   "metadata": {},
   "outputs": [
    {
     "output_type": "execute_result",
     "data": {
      "text/plain": "3.0"
     },
     "metadata": {},
     "execution_count": 13
    }
   ],
   "source": [
    "changing_variable"
   ]
  },
  {
   "cell_type": "markdown",
   "metadata": {},
   "source": [
    "## Tilldelningar i python kan läggas i följd:"
   ]
  },
  {
   "cell_type": "code",
   "execution_count": 68,
   "metadata": {
    "tags": []
   },
   "outputs": [
    {
     "output_type": "stream",
     "name": "stdout",
     "text": "5\n5\n"
    }
   ],
   "source": [
    "this_one = this_other_one = 4 + 1\n",
    "\n",
    "print(this_one)\n",
    "print(this_other_one)"
   ]
  },
  {
   "cell_type": "markdown",
   "metadata": {},
   "source": [
    "# operator ordning"
   ]
  },
  {
   "cell_type": "code",
   "execution_count": 7,
   "metadata": {
    "tags": []
   },
   "outputs": [],
   "source": [
    "result_1 = 3 * 1 + 3\n",
    "\n",
    "result_2 = 3 +1 * 3\n",
    "\n",
    "result_3 = 3 *1 +3**2"
   ]
  }
 ],
 "metadata": {
  "kernelspec": {
   "display_name": "Python 3",
   "language": "python",
   "name": "python3"
  },
  "language_info": {
   "codemirror_mode": {
    "name": "ipython",
    "version": 3
   },
   "file_extension": ".py",
   "mimetype": "text/x-python",
   "name": "python",
   "nbconvert_exporter": "python",
   "pygments_lexer": "ipython3",
   "version": "3.8.3-final"
  }
 },
 "nbformat": 4,
 "nbformat_minor": 2
}