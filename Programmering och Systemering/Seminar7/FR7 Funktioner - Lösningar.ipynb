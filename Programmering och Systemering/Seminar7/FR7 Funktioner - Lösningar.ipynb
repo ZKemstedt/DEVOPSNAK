{
 "cells": [
  {
   "cell_type": "markdown",
   "metadata": {},
   "source": [
    "## 1 - Upprepning"
   ]
  },
  {
   "cell_type": "markdown",
   "metadata": {},
   "source": [
    "Utan funktioner"
   ]
  },
  {
   "cell_type": "code",
   "execution_count": 3,
   "metadata": {},
   "outputs": [
    {
     "name": "stdout",
     "output_type": "stream",
     "text": [
      "Skriv in ett tal: 18\n",
      "181818181818181818181818181818181818\n"
     ]
    }
   ],
   "source": [
    "test_number = int(input(\"Skriv in ett tal: \"))\n",
    "\n",
    "if test_number <= 5:\n",
    "    for i in range(test_number):\n",
    "        string = str(i)\n",
    "        print(string*i)\n",
    "        \n",
    "string = str(test_number)\n",
    "print(string*test_number)"
   ]
  },
  {
   "cell_type": "markdown",
   "metadata": {},
   "source": [
    "Med funktioner"
   ]
  },
  {
   "cell_type": "code",
   "execution_count": 5,
   "metadata": {},
   "outputs": [
    {
     "name": "stdout",
     "output_type": "stream",
     "text": [
      "Skriv in ett tal: 8\n",
      "88888888\n"
     ]
    }
   ],
   "source": [
    "def extend_number(number):\n",
    "    string = str(number)\n",
    "    long_string = number*string\n",
    "    print(long_string)\n",
    "    \n",
    "test_number = int(input(\"Skriv in ett tal: \"))\n",
    "\n",
    "if test_number <= 5:\n",
    "    for i in range(test_number):\n",
    "        extend_number(i)\n",
    "        \n",
    "extend_number(test_number)    "
   ]
  },
  {
   "cell_type": "markdown",
   "metadata": {},
   "source": [
    "## 2 - Underhållbarhet"
   ]
  },
  {
   "cell_type": "markdown",
   "metadata": {},
   "source": [
    "Utan funktioner"
   ]
  },
  {
   "cell_type": "code",
   "execution_count": 6,
   "metadata": {},
   "outputs": [
    {
     "name": "stdout",
     "output_type": "stream",
     "text": [
      "Skriv in ett tal: 4\n",
      "Svar:  1\n",
      "Svar:  22\n",
      "Svar:  333\n",
      "Svar:  4444\n"
     ]
    }
   ],
   "source": [
    "test_number = int(input(\"Skriv in ett tal: \"))\n",
    "\n",
    "if test_number <= 5:\n",
    "    for i in range(1,test_number):\n",
    "        string = str(i)\n",
    "        print(\"Svar: \", string*i)\n",
    "        \n",
    "string = str(test_number)\n",
    "print(\"Svar: \", string*test_number)"
   ]
  },
  {
   "cell_type": "markdown",
   "metadata": {},
   "source": [
    "Med funktioner"
   ]
  },
  {
   "cell_type": "code",
   "execution_count": 52,
   "metadata": {},
   "outputs": [
    {
     "name": "stdout",
     "output_type": "stream",
     "text": [
      "Skriv in ett tal: 3\n",
      "Svar \n",
      "Svar 1\n",
      "Svar 22\n",
      "Svar 333\n"
     ]
    }
   ],
   "source": [
    "def extend_number(number):\n",
    "    string = str(number)\n",
    "    long_string = number*string\n",
    "    print(\"Svar\", long_string)\n",
    "    \n",
    "test_number = int(input(\"Skriv in ett tal: \"))\n",
    "\n",
    "if test_number <= 5:\n",
    "    for i in range(test_number):\n",
    "        extend_number(i)\n",
    "        \n",
    "extend_number(test_number)    "
   ]
  },
  {
   "cell_type": "markdown",
   "metadata": {},
   "source": [
    "## 3 - Flödesscheman\n",
    "\n",
    "Vi inleder med att skapa en funktion för att jämföra två tal, den innersta delen av flödesschemat"
   ]
  },
  {
   "cell_type": "code",
   "execution_count": 7,
   "metadata": {},
   "outputs": [],
   "source": [
    "def order_numbers(first, second):\n",
    "    if first<=second:\n",
    "        return first, second\n",
    "    else:\n",
    "        return second, first"
   ]
  },
  {
   "cell_type": "markdown",
   "metadata": {},
   "source": [
    "Vi testar funktionen genom att använda den på två tal"
   ]
  },
  {
   "cell_type": "code",
   "execution_count": 9,
   "metadata": {},
   "outputs": [
    {
     "name": "stdout",
     "output_type": "stream",
     "text": [
      "1 2\n"
     ]
    }
   ],
   "source": [
    "A = 1\n",
    "B = 2\n",
    "\n",
    "lower_number, higher_number = order_numbers(A, B)\n",
    "\n",
    "print(lower_number, higher_number)"
   ]
  },
  {
   "cell_type": "markdown",
   "metadata": {},
   "source": [
    "Den verkar fungera! \n",
    "\n",
    "Då tar vi resten av programmet från början. Vi behöver en lista"
   ]
  },
  {
   "cell_type": "code",
   "execution_count": 10,
   "metadata": {},
   "outputs": [],
   "source": [
    "list_to_sort = [3, 5, 3, 2, 5, 7, 4, 2, 7, 3, 6]"
   ]
  },
  {
   "cell_type": "markdown",
   "metadata": {},
   "source": [
    "Efter det ska vi kalla de två första elementen A respektive B:"
   ]
  },
  {
   "cell_type": "code",
   "execution_count": 11,
   "metadata": {},
   "outputs": [],
   "source": [
    "A = list_to_sort[0]\n",
    "B = list_to_sort[1]"
   ]
  },
  {
   "cell_type": "markdown",
   "metadata": {},
   "source": [
    "Nästa steg har vi redan gjort en funktion för. Men vi vill byta plats på elementen i den befintliga listan. Så vi sätter"
   ]
  },
  {
   "cell_type": "code",
   "execution_count": 9,
   "metadata": {},
   "outputs": [],
   "source": [
    "list_to_sort[0], list_to_sort[1] = order_numbers(A, B)\n"
   ]
  },
  {
   "cell_type": "markdown",
   "metadata": {},
   "source": [
    "Nu frågar flödesschemat om vi har nått slutet på listan. Eftersom vi inte börjat \"röra oss\" i listan ännu, så blir svaret nej.\n",
    "\n",
    "Vi ska alltså kalla nuvarande största (alltså sista) tal för A, och ta nästa tal i listan som B. "
   ]
  },
  {
   "cell_type": "code",
   "execution_count": 10,
   "metadata": {},
   "outputs": [],
   "source": [
    "A = list_to_sort[1]\n",
    "B = list_to_sort[2]"
   ]
  },
  {
   "cell_type": "markdown",
   "metadata": {},
   "source": [
    "Men sedan ska vi göra samma sak igen! Det är alltså dags för en loop! Vi väntar med att bestämma oss för när den ska sluta. Istället trycker vi ctrl-c om vi kör en vanlig editor eller väljer Kernel->interrupt om vi kör Jupyter.\n",
    "Vi sätter in det vi vill att den ska göra genom att skriva av ovan (jobbar man i en vanlig editor istället för i jupyter, så går det såklart bra att lägga loopen runt resten istället). Om man tittar på flödesschemat så ser man att den första tilldelningen ligger utanför loopen."
   ]
  },
  {
   "cell_type": "code",
   "execution_count": 12,
   "metadata": {},
   "outputs": [
    {
     "ename": "KeyboardInterrupt",
     "evalue": "",
     "output_type": "error",
     "traceback": [
      "\u001b[0;31m---------------------------------------------------------------------------\u001b[0m",
      "\u001b[0;31mKeyboardInterrupt\u001b[0m                         Traceback (most recent call last)",
      "\u001b[0;32m<ipython-input-12-89a5b8afa460>\u001b[0m in \u001b[0;36m<module>\u001b[0;34m\u001b[0m\n\u001b[1;32m      6\u001b[0m \u001b[0;32mwhile\u001b[0m \u001b[0;32mTrue\u001b[0m\u001b[0;34m:\u001b[0m\u001b[0;34m\u001b[0m\u001b[0;34m\u001b[0m\u001b[0m\n\u001b[1;32m      7\u001b[0m \u001b[0;34m\u001b[0m\u001b[0m\n\u001b[0;32m----> 8\u001b[0;31m     \u001b[0mlist_to_sort\u001b[0m\u001b[0;34m[\u001b[0m\u001b[0;36m0\u001b[0m\u001b[0;34m]\u001b[0m\u001b[0;34m,\u001b[0m \u001b[0mlist_to_sort\u001b[0m\u001b[0;34m[\u001b[0m\u001b[0;36m1\u001b[0m\u001b[0;34m]\u001b[0m \u001b[0;34m=\u001b[0m \u001b[0morder_numbers\u001b[0m\u001b[0;34m(\u001b[0m\u001b[0mA\u001b[0m\u001b[0;34m,\u001b[0m \u001b[0mB\u001b[0m\u001b[0;34m)\u001b[0m\u001b[0;34m\u001b[0m\u001b[0;34m\u001b[0m\u001b[0m\n\u001b[0m\u001b[1;32m      9\u001b[0m \u001b[0;34m\u001b[0m\u001b[0m\n\u001b[1;32m     10\u001b[0m     \u001b[0mA\u001b[0m \u001b[0;34m=\u001b[0m \u001b[0mlist_to_sort\u001b[0m\u001b[0;34m[\u001b[0m\u001b[0;36m1\u001b[0m\u001b[0;34m]\u001b[0m\u001b[0;34m\u001b[0m\u001b[0;34m\u001b[0m\u001b[0m\n",
      "\u001b[0;32m<ipython-input-7-e4e3f830452d>\u001b[0m in \u001b[0;36morder_numbers\u001b[0;34m(first, second)\u001b[0m\n\u001b[1;32m      1\u001b[0m \u001b[0;32mdef\u001b[0m \u001b[0morder_numbers\u001b[0m\u001b[0;34m(\u001b[0m\u001b[0mfirst\u001b[0m\u001b[0;34m,\u001b[0m \u001b[0msecond\u001b[0m\u001b[0;34m)\u001b[0m\u001b[0;34m:\u001b[0m\u001b[0;34m\u001b[0m\u001b[0;34m\u001b[0m\u001b[0m\n\u001b[0;32m----> 2\u001b[0;31m     \u001b[0;32mif\u001b[0m \u001b[0mfirst\u001b[0m\u001b[0;34m<=\u001b[0m\u001b[0msecond\u001b[0m\u001b[0;34m:\u001b[0m\u001b[0;34m\u001b[0m\u001b[0;34m\u001b[0m\u001b[0m\n\u001b[0m\u001b[1;32m      3\u001b[0m         \u001b[0;32mreturn\u001b[0m \u001b[0mfirst\u001b[0m\u001b[0;34m,\u001b[0m \u001b[0msecond\u001b[0m\u001b[0;34m\u001b[0m\u001b[0;34m\u001b[0m\u001b[0m\n\u001b[1;32m      4\u001b[0m     \u001b[0;32melse\u001b[0m\u001b[0;34m:\u001b[0m\u001b[0;34m\u001b[0m\u001b[0;34m\u001b[0m\u001b[0m\n\u001b[1;32m      5\u001b[0m         \u001b[0;32mreturn\u001b[0m \u001b[0msecond\u001b[0m\u001b[0;34m,\u001b[0m \u001b[0mfirst\u001b[0m\u001b[0;34m\u001b[0m\u001b[0;34m\u001b[0m\u001b[0m\n",
      "\u001b[0;31mKeyboardInterrupt\u001b[0m: "
     ]
    }
   ],
   "source": [
    "list_to_sort = [3, 5, 3, 2, 5, 7, 4, 2, 7, 3, 1]\n",
    "\n",
    "A = list_to_sort[0]\n",
    "B = list_to_sort[1]\n",
    "\n",
    "while True:\n",
    "\n",
    "    list_to_sort[0], list_to_sort[1] = order_numbers(A, B)\n",
    "    \n",
    "    A = list_to_sort[1]\n",
    "    B = list_to_sort[2]\n",
    "    \n"
   ]
  },
  {
   "cell_type": "markdown",
   "metadata": {},
   "source": [
    "Men på andra varvet så kommer inte B att vara nästa element! Och 0 och 1 kommer ju inte vara platserna den ska skriva på! Vi ändrar det så här:"
   ]
  },
  {
   "cell_type": "code",
   "execution_count": 13,
   "metadata": {},
   "outputs": [
    {
     "ename": "IndexError",
     "evalue": "list index out of range",
     "output_type": "error",
     "traceback": [
      "\u001b[0;31m---------------------------------------------------------------------------\u001b[0m",
      "\u001b[0;31mIndexError\u001b[0m                                Traceback (most recent call last)",
      "\u001b[0;32m<ipython-input-13-063a95e90f4e>\u001b[0m in \u001b[0;36m<module>\u001b[0;34m\u001b[0m\n\u001b[1;32m     10\u001b[0m \u001b[0;34m\u001b[0m\u001b[0m\n\u001b[1;32m     11\u001b[0m     \u001b[0mA\u001b[0m \u001b[0;34m=\u001b[0m \u001b[0mlist_to_sort\u001b[0m\u001b[0;34m[\u001b[0m\u001b[0mindex\u001b[0m\u001b[0;34m+\u001b[0m\u001b[0;36m1\u001b[0m\u001b[0;34m]\u001b[0m\u001b[0;34m\u001b[0m\u001b[0;34m\u001b[0m\u001b[0m\n\u001b[0;32m---> 12\u001b[0;31m     \u001b[0mB\u001b[0m \u001b[0;34m=\u001b[0m \u001b[0mlist_to_sort\u001b[0m\u001b[0;34m[\u001b[0m\u001b[0mindex\u001b[0m\u001b[0;34m+\u001b[0m\u001b[0;36m2\u001b[0m\u001b[0;34m]\u001b[0m\u001b[0;34m\u001b[0m\u001b[0;34m\u001b[0m\u001b[0m\n\u001b[0m\u001b[1;32m     13\u001b[0m \u001b[0;34m\u001b[0m\u001b[0m\n\u001b[1;32m     14\u001b[0m     \u001b[0mindex\u001b[0m\u001b[0;34m+=\u001b[0m\u001b[0;36m1\u001b[0m\u001b[0;34m\u001b[0m\u001b[0;34m\u001b[0m\u001b[0m\n",
      "\u001b[0;31mIndexError\u001b[0m: list index out of range"
     ]
    }
   ],
   "source": [
    "list_to_sort = [3, 5, 3, 2, 5, 7, 4, 2, 7, 3, 1]\n",
    "\n",
    "A = list_to_sort[0]\n",
    "B = list_to_sort[1]\n",
    "\n",
    "index = 0\n",
    "while True:\n",
    "\n",
    "    list_to_sort[index], list_to_sort[index+1] = order_numbers(A, B)\n",
    "    \n",
    "    A = list_to_sort[index+1]\n",
    "    B = list_to_sort[index+2]\n",
    "    \n",
    "    index+=1"
   ]
  },
  {
   "cell_type": "markdown",
   "metadata": {},
   "source": [
    "Ojdå! Nu fick vi ett out of range! Det är dock inte så konstigt, eftersom vi inte har något stoppvillkor ännu. \n",
    "Det gäller att fundera lite över hur stoppvillkoret ska vara. Eftersom vi använder oss av två steg framåt i listan, så verkar längden-2 vara ett bra alternativ. Vi provar:"
   ]
  },
  {
   "cell_type": "code",
   "execution_count": 14,
   "metadata": {},
   "outputs": [],
   "source": [
    "list_to_sort = [3, 5, 3, 2, 5, 7, 4, 2, 7, 3, 1]\n",
    "\n",
    "A = list_to_sort[0]\n",
    "B = list_to_sort[1]\n",
    "\n",
    "index = 0\n",
    "while index < len(list_to_sort)-2:\n",
    "\n",
    "    list_to_sort[index], list_to_sort[index+1] = order_numbers(A, B)\n",
    "    \n",
    "    A = list_to_sort[index+1]\n",
    "    B = list_to_sort[index+2]\n",
    "    \n",
    "    index+=1"
   ]
  },
  {
   "cell_type": "markdown",
   "metadata": {},
   "source": [
    "Nu kraschar den i alla fall inte! Men vi måste kolla resultatet också:"
   ]
  },
  {
   "cell_type": "code",
   "execution_count": 15,
   "metadata": {},
   "outputs": [
    {
     "name": "stdout",
     "output_type": "stream",
     "text": [
      "[3, 3, 2, 5, 5, 4, 2, 7, 3, 7, 1]\n"
     ]
    }
   ],
   "source": [
    "print(list_to_sort)"
   ]
  },
  {
   "cell_type": "markdown",
   "metadata": {},
   "source": [
    "Ser ok ut! Det finns ett misstag i den här biten kod, och det går att upptäcka. Men det är inte lätt. Därför kör vi vidare som inget har hänt för att se vad som händer.\n",
    "\n",
    "Nu kan vi följa ja-pilen i schemat. Då står det att vi ska hålla koll på om det har skett några byten. Vi lägger därför in en koll för det. När man vill ha koll på om något hänt i en loop eller inte, då sätter man den till INTE utanför. Sedan ändrar man den OM det händer. Så här:"
   ]
  },
  {
   "cell_type": "code",
   "execution_count": 17,
   "metadata": {},
   "outputs": [],
   "source": [
    "list_to_sort = [3, 5, 3, 2, 5, 7, 4, 2, 7, 3, 1]\n",
    "\n",
    "A = list_to_sort[0]\n",
    "B = list_to_sort[1]\n",
    "\n",
    "index = 0\n",
    "made_change = False\n",
    "while index < len(list_to_sort)-2:\n",
    "\n",
    "    list_to_sort[index], list_to_sort[index+1] = order_numbers(A, B)\n",
    "    if list_to_sort[index] != A:\n",
    "        made_change = True\n",
    "    \n",
    "    A = list_to_sort[index+1]\n",
    "    B = list_to_sort[index+2]\n",
    "    \n",
    "    index+=1"
   ]
  },
  {
   "cell_type": "markdown",
   "metadata": {},
   "source": [
    "Så testar vi den:"
   ]
  },
  {
   "cell_type": "code",
   "execution_count": 18,
   "metadata": {},
   "outputs": [
    {
     "name": "stdout",
     "output_type": "stream",
     "text": [
      "True\n"
     ]
    }
   ],
   "source": [
    "print(made_change)"
   ]
  },
  {
   "cell_type": "markdown",
   "metadata": {},
   "source": [
    "Ja, den ändrade sig i alla fall. Nu vill vi testa den för att se vad som händer om det är en lista den inte ändrar.\n",
    "\n",
    "För att testa olika fall så gör vi en funktion av den:"
   ]
  },
  {
   "cell_type": "code",
   "execution_count": 19,
   "metadata": {},
   "outputs": [],
   "source": [
    "def go_through_list(list_to_sort):\n",
    "\n",
    "    A = list_to_sort[0]\n",
    "    B = list_to_sort[1]\n",
    "\n",
    "    index = 0\n",
    "    made_change = False\n",
    "    while index < len(list_to_sort)-2:\n",
    "\n",
    "        list_to_sort[index], list_to_sort[index+1] = order_numbers(A, B)\n",
    "        if list_to_sort[index] != A:\n",
    "            made_change = True\n",
    "        \n",
    "        A = list_to_sort[index+1]\n",
    "        B = list_to_sort[index+2]\n",
    "    \n",
    "        index+=1\n",
    "    \n",
    "    return made_change"
   ]
  },
  {
   "cell_type": "markdown",
   "metadata": {},
   "source": [
    "Och så testar vi den på en lista där vi ska göra byten, och en där vi inte ska göra det:"
   ]
  },
  {
   "cell_type": "code",
   "execution_count": 20,
   "metadata": {
    "scrolled": true
   },
   "outputs": [
    {
     "name": "stdout",
     "output_type": "stream",
     "text": [
      "True\n",
      "False\n"
     ]
    }
   ],
   "source": [
    "changes = go_through_list([2, 5, 3, 6, 8, 4, 1])\n",
    "no_changes = go_through_list([1, 2, 3, 4, 5, 6])\n",
    "\n",
    "print(changes)\n",
    "print(no_changes)"
   ]
  },
  {
   "cell_type": "markdown",
   "metadata": {},
   "source": [
    "Om vi inte har gjort några byten, då kan vi konstatera att listan är sorterad! Annars kör vi den igen. Och det betyder ju att vi vill ha ut listan! Så låt oss lägga till det i return-satsen. Listan känns faktiskt som det viktiga resultatet, så det är bra att lägga den först:"
   ]
  },
  {
   "cell_type": "code",
   "execution_count": 21,
   "metadata": {},
   "outputs": [],
   "source": [
    "def go_through_list(list_to_sort):\n",
    "\n",
    "    A = list_to_sort[0]\n",
    "    B = list_to_sort[1]\n",
    "\n",
    "    index = 0\n",
    "    made_change = False\n",
    "    while index < len(list_to_sort)-2:\n",
    "\n",
    "        list_to_sort[index], list_to_sort[index+1] = order_numbers(A, B)\n",
    "        if list_to_sort[index] != A:\n",
    "            made_change = True\n",
    "        \n",
    "        A = list_to_sort[index+1]\n",
    "        B = list_to_sort[index+2]\n",
    "    \n",
    "        index+=1\n",
    "    \n",
    "    return list_to_sort, made_change"
   ]
  },
  {
   "cell_type": "markdown",
   "metadata": {},
   "source": [
    "Vi testar igen:"
   ]
  },
  {
   "cell_type": "code",
   "execution_count": 22,
   "metadata": {},
   "outputs": [
    {
     "name": "stdout",
     "output_type": "stream",
     "text": [
      "([2, 3, 5, 6, 4, 8, 1], True)\n",
      "([1, 2, 3, 4, 5, 6], False)\n"
     ]
    }
   ],
   "source": [
    "changes = go_through_list([2, 5, 3, 6, 8, 4, 1])\n",
    "no_changes = go_through_list([1, 2, 3, 4, 5, 6])\n",
    "\n",
    "print(changes)\n",
    "print(no_changes)"
   ]
  },
  {
   "cell_type": "markdown",
   "metadata": {},
   "source": [
    "Slutligen kan vi nu följa den sista pilen och se att det är en loop igen. Om byten har gjorts så ska hela alltet ovan köras igen. Så länge förändringar gjorts. Innan vi börjar så har ju inga förändringar gjorts, men eftersom vi vill att loopen ska köras minst en gång så sätter vi den ändå till True:"
   ]
  },
  {
   "cell_type": "code",
   "execution_count": 23,
   "metadata": {},
   "outputs": [],
   "source": [
    "list_to_sort = [3, 5, 3, 2, 5, 7, 4, 2, 7, 3, 1]\n",
    "\n",
    "changes_made = True\n",
    "\n",
    "while changes_made:\n",
    "    list_to_sort, changes_made = go_through_list(list_to_sort)"
   ]
  },
  {
   "cell_type": "markdown",
   "metadata": {},
   "source": [
    "Och så kollar vi hur den blev:"
   ]
  },
  {
   "cell_type": "code",
   "execution_count": 24,
   "metadata": {},
   "outputs": [
    {
     "name": "stdout",
     "output_type": "stream",
     "text": [
      "[2, 2, 3, 3, 3, 4, 5, 5, 7, 7, 1]\n"
     ]
    }
   ],
   "source": [
    "print(list_to_sort)"
   ]
  },
  {
   "cell_type": "markdown",
   "metadata": {},
   "source": [
    "Nästan rätt! Men ettan på slutet stämmer ju inte! Kommer ni ihåg felet jag nämnde? Nu syns det tydligt. Låt oss titta på go_through_list igen:"
   ]
  },
  {
   "cell_type": "code",
   "execution_count": null,
   "metadata": {},
   "outputs": [],
   "source": [
    "def go_through_list(list_to_sort):\n",
    "\n",
    "    A = list_to_sort[0]\n",
    "    B = list_to_sort[1]\n",
    "\n",
    "    index = 0\n",
    "    made_change = False\n",
    "    while index < len(list_to_sort)-2:\n",
    "\n",
    "        list_to_sort[index], list_to_sort[index+1] = order_numbers(A, B)\n",
    "        if list_to_sort[index] != A:\n",
    "            made_change = True\n",
    "        \n",
    "        A = list_to_sort[index+1]\n",
    "        B = list_to_sort[index+2]\n",
    "    \n",
    "        index+=1\n",
    "    \n",
    "    return list_to_sort, made_change"
   ]
  },
  {
   "cell_type": "markdown",
   "metadata": {},
   "source": [
    "A och B sätts ju faktiskt EFTER de används, inte innan! Det betyder att sista varvet så blir de meningslösa! Vi flyttar upp dem!"
   ]
  },
  {
   "cell_type": "code",
   "execution_count": 25,
   "metadata": {},
   "outputs": [],
   "source": [
    "def go_through_list(list_to_sort):\n",
    "\n",
    "    A = list_to_sort[0]\n",
    "    B = list_to_sort[1]\n",
    "\n",
    "    index = 0\n",
    "    made_change = False\n",
    "    while index < len(list_to_sort)-2:\n",
    "        \n",
    "        A = list_to_sort[index+1]\n",
    "        B = list_to_sort[index+2]\n",
    "            \n",
    "        list_to_sort[index], list_to_sort[index+1] = order_numbers(A, B)\n",
    "        if list_to_sort[index] != A:\n",
    "            made_change = True\n",
    "        \n",
    "        index+=1\n",
    "    \n",
    "    return list_to_sort, made_change"
   ]
  },
  {
   "cell_type": "markdown",
   "metadata": {},
   "source": [
    "Vi provar igen:"
   ]
  },
  {
   "cell_type": "code",
   "execution_count": 26,
   "metadata": {},
   "outputs": [
    {
     "ename": "KeyboardInterrupt",
     "evalue": "",
     "output_type": "error",
     "traceback": [
      "\u001b[0;31m---------------------------------------------------------------------------\u001b[0m",
      "\u001b[0;31mKeyboardInterrupt\u001b[0m                         Traceback (most recent call last)",
      "\u001b[0;32m<ipython-input-26-adb2710959de>\u001b[0m in \u001b[0;36m<module>\u001b[0;34m\u001b[0m\n\u001b[1;32m      4\u001b[0m \u001b[0;34m\u001b[0m\u001b[0m\n\u001b[1;32m      5\u001b[0m \u001b[0;32mwhile\u001b[0m \u001b[0mchanges_made\u001b[0m\u001b[0;34m:\u001b[0m\u001b[0;34m\u001b[0m\u001b[0;34m\u001b[0m\u001b[0m\n\u001b[0;32m----> 6\u001b[0;31m     \u001b[0mlist_to_sort\u001b[0m\u001b[0;34m,\u001b[0m \u001b[0mchanges_made\u001b[0m \u001b[0;34m=\u001b[0m \u001b[0mgo_through_list\u001b[0m\u001b[0;34m(\u001b[0m\u001b[0mlist_to_sort\u001b[0m\u001b[0;34m)\u001b[0m\u001b[0;34m\u001b[0m\u001b[0;34m\u001b[0m\u001b[0m\n\u001b[0m",
      "\u001b[0;32m<ipython-input-25-cc8cd2781bda>\u001b[0m in \u001b[0;36mgo_through_list\u001b[0;34m(list_to_sort)\u001b[0m\n\u001b[1;32m      8\u001b[0m     \u001b[0;32mwhile\u001b[0m \u001b[0mindex\u001b[0m \u001b[0;34m<\u001b[0m \u001b[0mlen\u001b[0m\u001b[0;34m(\u001b[0m\u001b[0mlist_to_sort\u001b[0m\u001b[0;34m)\u001b[0m\u001b[0;34m-\u001b[0m\u001b[0;36m2\u001b[0m\u001b[0;34m:\u001b[0m\u001b[0;34m\u001b[0m\u001b[0;34m\u001b[0m\u001b[0m\n\u001b[1;32m      9\u001b[0m \u001b[0;34m\u001b[0m\u001b[0m\n\u001b[0;32m---> 10\u001b[0;31m         \u001b[0mA\u001b[0m \u001b[0;34m=\u001b[0m \u001b[0mlist_to_sort\u001b[0m\u001b[0;34m[\u001b[0m\u001b[0mindex\u001b[0m\u001b[0;34m+\u001b[0m\u001b[0;36m1\u001b[0m\u001b[0;34m]\u001b[0m\u001b[0;34m\u001b[0m\u001b[0;34m\u001b[0m\u001b[0m\n\u001b[0m\u001b[1;32m     11\u001b[0m         \u001b[0mB\u001b[0m \u001b[0;34m=\u001b[0m \u001b[0mlist_to_sort\u001b[0m\u001b[0;34m[\u001b[0m\u001b[0mindex\u001b[0m\u001b[0;34m+\u001b[0m\u001b[0;36m2\u001b[0m\u001b[0;34m]\u001b[0m\u001b[0;34m\u001b[0m\u001b[0;34m\u001b[0m\u001b[0m\n\u001b[1;32m     12\u001b[0m \u001b[0;34m\u001b[0m\u001b[0m\n",
      "\u001b[0;31mKeyboardInterrupt\u001b[0m: "
     ]
    }
   ],
   "source": [
    "list_to_sort = [3, 5, 3, 2, 5, 7, 4, 2, 7, 3, 1]\n",
    "\n",
    "changes_made = True\n",
    "\n",
    "while changes_made:\n",
    "    list_to_sort, changes_made = go_through_list(list_to_sort)"
   ]
  },
  {
   "cell_type": "markdown",
   "metadata": {},
   "source": [
    "Nu stannar den inte! Vi tar en titt på listan för att försöka förstå varför:"
   ]
  },
  {
   "cell_type": "code",
   "execution_count": 27,
   "metadata": {},
   "outputs": [
    {
     "name": "stdout",
     "output_type": "stream",
     "text": [
      "[1, 1, 1, 1, 1, 1, 1, 1, 1, 3, 1]\n"
     ]
    }
   ],
   "source": [
    "print(list_to_sort)"
   ]
  },
  {
   "cell_type": "markdown",
   "metadata": {},
   "source": [
    "Nu har nästan alla blivit ettor! Fram med koden igen!"
   ]
  },
  {
   "cell_type": "code",
   "execution_count": null,
   "metadata": {},
   "outputs": [],
   "source": [
    "def go_through_list(list_to_sort):\n",
    "\n",
    "    A = list_to_sort[0]\n",
    "    B = list_to_sort[1]\n",
    "\n",
    "    index = 0\n",
    "    made_change = False\n",
    "    while index < len(list_to_sort)-2:\n",
    "        \n",
    "        A = list_to_sort[index+1]\n",
    "        B = list_to_sort[index+2]\n",
    "            \n",
    "        list_to_sort[index], list_to_sort[index+1] = order_numbers(A, B)\n",
    "        if list_to_sort[index] != A:\n",
    "            made_change = True\n",
    "        \n",
    "        index+=1\n",
    "    \n",
    "    return list_to_sort, made_change"
   ]
  },
  {
   "cell_type": "markdown",
   "metadata": {},
   "source": [
    "Här kan man bli hjälpt av att skriva ut lite index. Men om man tittar på första varvet så inser man att då kommer den ta element 1 och 2! Inte de två första (som skulle vara 0 och 1)! När det gäller den aktuella istället för nästa, då får vi minska med ett steg! Dessutom blir det ju onödigt att sätta A och B innan loopen."
   ]
  },
  {
   "cell_type": "code",
   "execution_count": 28,
   "metadata": {},
   "outputs": [],
   "source": [
    "def go_through_list(list_to_sort):\n",
    "\n",
    "    index = 0\n",
    "    made_change = False\n",
    "    while index < len(list_to_sort)-2:\n",
    "        \n",
    "        A = list_to_sort[index]\n",
    "        B = list_to_sort[index+1]\n",
    "            \n",
    "        list_to_sort[index], list_to_sort[index+1] = order_numbers(A, B)\n",
    "        if list_to_sort[index] != A:\n",
    "            made_change = True\n",
    "        \n",
    "        index+=1\n",
    "    \n",
    "    return list_to_sort, made_change"
   ]
  },
  {
   "cell_type": "markdown",
   "metadata": {},
   "source": [
    "Nu kommer vi ju inte till index+2! Så vi kan låta loopen gå ett steg till:"
   ]
  },
  {
   "cell_type": "code",
   "execution_count": 30,
   "metadata": {},
   "outputs": [],
   "source": [
    "def go_through_list(list_to_sort):\n",
    "\n",
    "    index = 0\n",
    "    made_change = False\n",
    "    while index < len(list_to_sort)-1:\n",
    "        \n",
    "        A = list_to_sort[index]\n",
    "        B = list_to_sort[index+1]\n",
    "            \n",
    "        list_to_sort[index], list_to_sort[index+1] = order_numbers(A, B)\n",
    "        if list_to_sort[index] != A:\n",
    "            made_change = True\n",
    "        \n",
    "        index+=1\n",
    "    \n",
    "    return list_to_sort, made_change"
   ]
  },
  {
   "cell_type": "code",
   "execution_count": 31,
   "metadata": {},
   "outputs": [],
   "source": [
    "list_to_sort = [3, 5, 3, 2, 5, 7, 4, 2, 7, 3, 1]\n",
    "\n",
    "changes_made = True\n",
    "\n",
    "while changes_made:\n",
    "    list_to_sort, changes_made = go_through_list(list_to_sort)"
   ]
  },
  {
   "cell_type": "code",
   "execution_count": 32,
   "metadata": {},
   "outputs": [
    {
     "name": "stdout",
     "output_type": "stream",
     "text": [
      "[1, 2, 2, 3, 3, 3, 4, 5, 5, 7, 7]\n"
     ]
    }
   ],
   "source": [
    "print(list_to_sort)"
   ]
  },
  {
   "cell_type": "markdown",
   "metadata": {},
   "source": [
    "Sådär! Nu är det alltså en fullt fungerande kod! Det här är fullt godkänt, på en svår uppgift!\n",
    "\n",
    "Det finns dock några förbättringar om man vill ha lite överkurs. Till att börja med är det bra i det här läget att göra även det yttre som en funktion:"
   ]
  },
  {
   "cell_type": "code",
   "execution_count": 33,
   "metadata": {},
   "outputs": [],
   "source": [
    "def bubble_sort(list_to_sort):\n",
    "\n",
    "    changes_made = True\n",
    "\n",
    "    while changes_made:\n",
    "        list_to_sort, changes_made = go_through_list(list_to_sort)\n",
    "        \n",
    "    return list_to_sort"
   ]
  },
  {
   "cell_type": "markdown",
   "metadata": {},
   "source": [
    "Sedan kan man göra om loopen i go through list till en for-loop, eftersom den räknar upp:"
   ]
  },
  {
   "cell_type": "code",
   "execution_count": 34,
   "metadata": {},
   "outputs": [],
   "source": [
    "def go_through_list(list_to_sort):\n",
    "\n",
    "    index = 0\n",
    "    made_change = False\n",
    "    for index in range(len(list_to_sort)-1):\n",
    "        \n",
    "        A = list_to_sort[index]\n",
    "        B = list_to_sort[index+1]\n",
    "            \n",
    "        list_to_sort[index], list_to_sort[index+1] = order_numbers(A, B)\n",
    "        if list_to_sort[index] != A:\n",
    "            made_change = True\n",
    "\n",
    "    return list_to_sort, made_change"
   ]
  },
  {
   "cell_type": "markdown",
   "metadata": {},
   "source": [
    "Eftersom funktionen order_numbers VET om den bytt eller inte, så kan den få returnera det också:"
   ]
  },
  {
   "cell_type": "code",
   "execution_count": 35,
   "metadata": {},
   "outputs": [],
   "source": [
    "def order_numbers(first, second):\n",
    "    if first<=second:\n",
    "        return first, second, False\n",
    "    else:\n",
    "        return second, first, True"
   ]
  },
  {
   "cell_type": "code",
   "execution_count": 36,
   "metadata": {},
   "outputs": [],
   "source": [
    "def go_through_list(list_to_sort):\n",
    "\n",
    "    index = 0\n",
    "    made_change = False\n",
    "    for index in range(len(list_to_sort)-1):\n",
    "        A = list_to_sort[index]\n",
    "        B = list_to_sort[index+1]\n",
    "            \n",
    "        list_to_sort[index], list_to_sort[index+1], made_change = order_numbers(A, B)\n",
    "    return list_to_sort, made_change"
   ]
  },
  {
   "cell_type": "markdown",
   "metadata": {},
   "source": [
    "Därefter kan man lägga på att varje funktion ska göra en och endast en sak, genom att definiera lite andra funktioner:"
   ]
  },
  {
   "cell_type": "code",
   "execution_count": 49,
   "metadata": {},
   "outputs": [],
   "source": [
    "def get_a_and_b(list_to_sort, index):\n",
    "    return list_to_sort[index], list_to_sort[index+1]\n",
    "\n",
    "def make_swap_if_needed(list_to_swap_in, index):\n",
    "    A, B = get_a_and_b(list_to_swap_in, index)\n",
    "        \n",
    "    list_to_swap_in[index], list_to_swap_in[index+1], made_change = order_numbers(A, B)\n",
    "\n",
    "    return list_to_swap_in, made_change\n",
    "\n",
    "def go_through_list(list_to_sort):\n",
    "\n",
    "    index = 0\n",
    "    made_change = False\n",
    "    for index in range((list_to_sort)-1):\n",
    "        list_to_sort, made_change = make_swap_if_needed(list_to_sort, index)\n",
    "                \n",
    "    return list_to_sort, made_change"
   ]
  },
  {
   "cell_type": "markdown",
   "metadata": {},
   "source": [
    "Den fullständiga källkoden blir då:"
   ]
  },
  {
   "cell_type": "code",
   "execution_count": 37,
   "metadata": {},
   "outputs": [
    {
     "name": "stdout",
     "output_type": "stream",
     "text": [
      "[3, 6, 3, 7, 2, 7, 1, 8, 23]\n"
     ]
    }
   ],
   "source": [
    "def order_numbers(first, second):\n",
    "    if first<=second:\n",
    "        return first, second, False\n",
    "    else:\n",
    "        return second, first, True\n",
    "\n",
    "def get_a_and_b(list_to_sort, index):\n",
    "    return list_to_sort[index], list_to_sort[index+1]\n",
    "\n",
    "def make_swap_if_needed(list_to_swap_in, index):\n",
    "    A, B = get_a_and_b(list_to_swap_in, index)\n",
    "        \n",
    "    list_to_swap_in[index], list_to_swap_in[index+1], made_change = order_numbers(A, B)\n",
    "\n",
    "    return list_to_swap_in, made_change\n",
    "\n",
    "def go_through_list(list_to_sort):\n",
    "    index = 0\n",
    "    made_change = False\n",
    "    for index in range(len(list_to_sort)-1):\n",
    "        list_to_sort, made_change = make_swap_if_needed(list_to_sort, index)\n",
    "                \n",
    "    return list_to_sort, made_change\n",
    "\n",
    "def bubble_sort(list_to_sort):\n",
    "    changes_made = True\n",
    "\n",
    "    while changes_made:\n",
    "        list_to_sort, changes_made = go_through_list(list_to_sort)\n",
    "        \n",
    "    return list_to_sort\n",
    "\n",
    "sorted_list = bubble_sort([3, 7, 23, 6, 3, 8, 2, 7, 1])\n",
    "\n",
    "print(sorted_list)"
   ]
  },
  {
   "cell_type": "markdown",
   "metadata": {},
   "source": [
    "om man gör det utan funktionsuppdelning"
   ]
  },
  {
   "cell_type": "code",
   "execution_count": 40,
   "metadata": {},
   "outputs": [
    {
     "name": "stdout",
     "output_type": "stream",
     "text": [
      "[1, 2, 3, 3, 6, 7, 7, 8, 23]\n"
     ]
    }
   ],
   "source": [
    "list_to_sort = [3, 7, 23, 6, 3, 8, 2, 7, 1]\n",
    "\n",
    "made_change = True\n",
    "\n",
    "while made_change:\n",
    "    index = 0\n",
    "    made_change = False\n",
    "    for index in range(len(list_to_sort)-1):\n",
    "\n",
    "        if list_to_sort[index]>list_to_sort[index+1]:\n",
    "            made_change = True\n",
    "            (list_to_sort[index], list_to_sort[index+1]) = (list_to_sort[index+1], list_to_sort[index])\n",
    "\n",
    "print(list_to_sort)"
   ]
  },
  {
   "cell_type": "markdown",
   "metadata": {},
   "source": [
    "## 4. Pseudokod\n",
    "\n",
    "Vi börjar med att skriva av den."
   ]
  },
  {
   "cell_type": "code",
   "execution_count": null,
   "metadata": {},
   "outputs": [],
   "source": [
    "Funktionen sort som tar emot en list (unsorted_list):\n",
    "    p = Ett element i unsorted_list\n",
    "    for element in unsorted_list (förutom p):\n",
    "        if element<=p:\n",
    "            lägg element i en list (smaller)\n",
    "        else:\n",
    "            lägg element i en list (larger)\n",
    "            \n",
    "    if smaller innehåller mer än ett tal\n",
    "        sort(smaller)\n",
    "\n",
    "    if larger innehåller mer än ett tal\n",
    "        sort(larger)\n",
    "    \n",
    "    sorted_list = list som innehåller: smaller -> p -> larger\n",
    "    return sorted_list"
   ]
  },
  {
   "cell_type": "markdown",
   "metadata": {},
   "source": [
    "Sedan beror det lite på vad man tycker är knepigt att översätta. Men den första raden talar om att vi ska definiera en funktion"
   ]
  },
  {
   "cell_type": "code",
   "execution_count": null,
   "metadata": {},
   "outputs": [],
   "source": [
    "def my_sort(unsorted_list):\n",
    "    p = Ett element i unsorted_list\n",
    "    for element in unsorted_list (förutom p):\n",
    "        if element<=p:\n",
    "            lägg element i en list (smaller)\n",
    "        else:\n",
    "            lägg element i en list (larger)\n",
    "            \n",
    "    if smaller innehåller mer än ett tal\n",
    "        sort(smaller)\n",
    "\n",
    "    if larger innehåller mer än ett tal\n",
    "        sort(larger)\n",
    "    \n",
    "    sorted_list = list som innehåller: smaller -> p -> larger\n",
    "    return sorted_list\t"
   ]
  },
  {
   "cell_type": "markdown",
   "metadata": {},
   "source": [
    "Därefter ta ett element. Det verkar inte spela någon roll vilket, så vi tar det första:"
   ]
  },
  {
   "cell_type": "code",
   "execution_count": null,
   "metadata": {},
   "outputs": [],
   "source": [
    "def my_sort(unsorted_list):\n",
    "    p = unsorted_list[0]\n",
    "    for element in unsorted_list (förutom p):\n",
    "        if element<=p:\n",
    "            lägg element i en list (smaller)\n",
    "        else:\n",
    "            lägg element i en list (larger)\n",
    "            \n",
    "    if smaller innehåller mer än ett tal\n",
    "        sort(smaller)\n",
    "\n",
    "    if larger innehåller mer än ett tal\n",
    "        sort(larger)\n",
    "    \n",
    "    sorted_list = list som innehåller: smaller -> p -> larger\n",
    "    return sorted_list\t"
   ]
  },
  {
   "cell_type": "markdown",
   "metadata": {},
   "source": [
    "Nästa rad är förädisk! Det ser ut som att det är en färdig loop, men det där med förutom p krånglar till det lite. Men eftersom vi valt den första så kan vi använda kolon-notationen:"
   ]
  },
  {
   "cell_type": "code",
   "execution_count": null,
   "metadata": {},
   "outputs": [],
   "source": [
    "def my_sort(unsorted_list):\n",
    "    p = unsorted_list[0]\n",
    "    for element in unsorted_list[1:]:\n",
    "        if element<=p:\n",
    "            lägg element i en list (smaller)\n",
    "        else:\n",
    "            lägg element i en list (larger)\n",
    "            \n",
    "    if smaller innehåller mer än ett tal\n",
    "        sort(smaller)\n",
    "\n",
    "    if larger innehåller mer än ett tal\n",
    "        sort(larger)\n",
    "    \n",
    "    sorted_list = list som innehåller: smaller -> p -> larger\n",
    "    return sorted_list"
   ]
  },
  {
   "cell_type": "markdown",
   "metadata": {},
   "source": [
    "If-satsen verkar hel, och likaså else. Så vi översätter istället vad som ska göras. Vi ska alltså lägga dem i en lista. Här får vi se upp lite igen! Eftersom vi är inne i en loop så vill vi ha kvar samma lista Vi får alltså gå tillbaka och deklarare den utanför. Lägga till gör vi med append."
   ]
  },
  {
   "cell_type": "code",
   "execution_count": null,
   "metadata": {},
   "outputs": [],
   "source": [
    "def my_sort(unsorted_list):\n",
    "    p = unsorted_list[0]\n",
    "    \n",
    "    smaller = []\n",
    "    larger = []\n",
    "    \n",
    "    for element in unsorted_list[1:]:\n",
    "        if element<=p:\n",
    "            smaller.append(element)\n",
    "        else:\n",
    "            larger.append(element)\n",
    "            \n",
    "    if smaller innehåller mer än ett tal\n",
    "        sort(smaller)\n",
    "\n",
    "    if larger innehåller mer än ett tal\n",
    "        sort(larger)\n",
    "    \n",
    "    sorted_list = list som innehåller: smaller -> p -> larger\n",
    "    return sorted_list"
   ]
  },
  {
   "cell_type": "markdown",
   "metadata": {},
   "source": [
    "Nästkommande två if-satser är INTE klara. Men inte så att de kräver så mycket heller:"
   ]
  },
  {
   "cell_type": "code",
   "execution_count": null,
   "metadata": {},
   "outputs": [],
   "source": [
    "def my_sort(unsorted_list):\n",
    "    p = unsorted_list[0]\n",
    "    \n",
    "    smaller = []\n",
    "    larger = []\n",
    "    \n",
    "    for element in unsorted_list[1:]: \n",
    "        if element<=p:\n",
    "            smaller.append(element)\n",
    "        else:\n",
    "            larger.append(element)\n",
    "            \n",
    "    if len(smaller) > 1:\n",
    "        sort(smaller)\n",
    "\n",
    "    if len(larger) > 1:\n",
    "        sort(larger)\n",
    "    \n",
    "    sorted_list = list som innehåller: smaller -> p -> larger\n",
    "    return sorted_list"
   ]
  },
  {
   "cell_type": "markdown",
   "metadata": {},
   "source": [
    "Slutligen behöver vi sätta ihop den slutliga listan.  Det är då viktigt att tänka på att p inte är en lista, så att den kan göras om till en sådan"
   ]
  },
  {
   "cell_type": "code",
   "execution_count": 41,
   "metadata": {},
   "outputs": [],
   "source": [
    "def my_sort(unsorted_list):\n",
    "    p = unsorted_list[0]\n",
    "    \n",
    "    smaller = []\n",
    "    larger = []\n",
    "    \n",
    "    for element in unsorted_list[1:]: \n",
    "        if element<=p:\n",
    "            smaller.append(element)\n",
    "        else:\n",
    "            larger.append(element)\n",
    "            \n",
    "    if len(smaller) > 1:\n",
    "        sort(smaller)\n",
    "\n",
    "    if len(larger) > 1:\n",
    "        sort(larger)\n",
    "    \n",
    "    sorted_list = smaller + [p] + larger\n",
    "    return sorted_list"
   ]
  },
  {
   "cell_type": "code",
   "execution_count": 42,
   "metadata": {},
   "outputs": [
    {
     "name": "stdout",
     "output_type": "stream",
     "text": [
      "[1, 2, 2, 3, 5, 43, 6, 78, 4]\n"
     ]
    }
   ],
   "source": [
    "to_sort = [3, 1, 5, 43, 2, 6, 78, 2, 4]\n",
    "\n",
    "sorted_list = sort(to_sort)\n",
    "\n",
    "print(sorted_list)"
   ]
  },
  {
   "cell_type": "markdown",
   "metadata": {},
   "source": [
    "Det där blev inte rätt!\n",
    "\n",
    "Det är för att vi har missat en sak! Efter de senare if-satserna så sätts inte smaller och larger. Sort är den funktion vi har skrivit själva, och den RETURNERAR den sorterad listan. Vi måste alltså ha:"
   ]
  },
  {
   "cell_type": "code",
   "execution_count": 47,
   "metadata": {},
   "outputs": [],
   "source": [
    "def my_sort(unsorted_list):\n",
    "    p = unsorted_list[0]\n",
    "    smaller = []\n",
    "    larger = []\n",
    "    \n",
    "    for element in unsorted_list[1:]: \n",
    "        if element<=p:\n",
    "            smaller.append(element)\n",
    "        else:\n",
    "            larger.append(element)\n",
    "            \n",
    "    if len(smaller) > 1:\n",
    "        smaller = my_sort(smaller)\n",
    "\n",
    "    if len(larger) > 1:\n",
    "        larger = my_sort(larger)\n",
    "\n",
    "    sorted_list = smaller + [p] + larger\n",
    "    \n",
    "    return sorted_list"
   ]
  },
  {
   "cell_type": "code",
   "execution_count": 53,
   "metadata": {},
   "outputs": [
    {
     "name": "stdout",
     "output_type": "stream",
     "text": [
      "[7, 4, 15, 5, 43, 2, 6, 78, 2, 4, 10]\n",
      "[4, 5, 2, 6, 2, 4]\n",
      "[2, 2, 4]\n",
      "[5, 6]\n",
      "[15, 43, 78, 10]\n",
      "[43, 78]\n",
      "[2, 2, 4, 4, 5, 6, 7, 10, 15, 43, 78]\n"
     ]
    }
   ],
   "source": [
    "to_sort = [7, 4, 15, 5, 43, 2, 6, 78, 2, 4, 10]\n",
    "\n",
    "sorted_list = my_sort(to_sort)\n",
    "\n",
    "print(sorted_list)"
   ]
  },
  {
   "cell_type": "code",
   "execution_count": 49,
   "metadata": {},
   "outputs": [],
   "source": [
    "def my_sort(unsorted_list):\n",
    "    print(unsorted_list)\n",
    "    p = unsorted_list[0]\n",
    "    smaller = []\n",
    "    larger = []\n",
    "    \n",
    "    for element in unsorted_list[1:]: \n",
    "        if element<=p:\n",
    "            smaller.append(element)\n",
    "        else:\n",
    "            larger.append(element)\n",
    "            \n",
    "    if len(smaller) > 1:\n",
    "        smaller = my_sort(smaller)\n",
    "\n",
    "    if len(larger) > 1:\n",
    "        larger = my_sort(larger)\n",
    "\n",
    "    sorted_list = smaller + [p] + larger\n",
    "    \n",
    "    return sorted_list"
   ]
  },
  {
   "cell_type": "markdown",
   "metadata": {},
   "source": [
    "## 5 - Läsbarhet och förberedelser"
   ]
  },
  {
   "cell_type": "code",
   "execution_count": 54,
   "metadata": {},
   "outputs": [
    {
     "name": "stdout",
     "output_type": "stream",
     "text": [
      "[87, 78, 15, 80, 0, 23, 82, 37, 69, 43, 62, 42, 29, 16, 41, 12, 65, 53, 75, 74]\n",
      "Skriv ett tal: $o\n",
      "Neeeej, det var inget tal. Försök igen: 0x32\n",
      "Neeeej, det var inget tal. Försök igen: 5\n",
      "[87, 78, 15, 80, 23, 82, 37, 69, 43, 62, 42, 29, 16, 41, 12, 65, 53, 75, 74]\n",
      "[87, 15, 23, 37, 69, 43, 29, 41, 65, 53, 75]\n"
     ]
    }
   ],
   "source": [
    "from random import randrange\n",
    "number_list = [randrange(100) for _ in range(20)]\n",
    "print(number_list)\n",
    "\n",
    "tal_string = input(\"Skriv ett tal: \")\n",
    "while(not tal_string.isdecimal()):\n",
    "    tal_string = input(\"Neeeej, det var inget tal. Försök igen: \")\n",
    "\n",
    "cutoff_value = int(tal_string)\n",
    "cut_list = [number for number in number_list if number > cutoff_value]\n",
    "print(cut_list)\n",
    "\n",
    "odd_list = [number for number in cut_list if number%2]\n",
    "print(odd_list)"
   ]
  },
  {
   "cell_type": "code",
   "execution_count": 55,
   "metadata": {},
   "outputs": [],
   "source": [
    "def random_list(elements, max_value):\n",
    "    return [randrange(max_value) for _ in range(elements)]\n"
   ]
  },
  {
   "cell_type": "code",
   "execution_count": 56,
   "metadata": {},
   "outputs": [],
   "source": [
    "def get_number_input():\n",
    "    tal_string = input(\"Skriv ett tal: \")\n",
    "    \n",
    "    while(not tal_string.isdecimal()):\n",
    "        tal_string = input(\"Neeeej, det var inget tal. Försök igen: \")\n",
    "    \n",
    "    return int(tal_string)\n",
    "    "
   ]
  },
  {
   "cell_type": "code",
   "execution_count": 57,
   "metadata": {},
   "outputs": [],
   "source": [
    "def cut_list(input_list, cutoff_value):\n",
    "    return [number for number in input_list if number > cutoff_value]"
   ]
  },
  {
   "cell_type": "code",
   "execution_count": 58,
   "metadata": {},
   "outputs": [],
   "source": [
    "def odd_list(input_list):\n",
    "    return [number for number in input_list if number%2]"
   ]
  },
  {
   "cell_type": "code",
   "execution_count": 29,
   "metadata": {},
   "outputs": [
    {
     "name": "stdout",
     "output_type": "stream",
     "text": [
      "[50, 89, 47, 53, 47, 61, 43, 27, 31, 7, 98, 62, 84, 42, 12, 38, 11, 18, 94, 10]\n",
      "Skriv ett tal: wsefhg\n",
      "Neeeej, det var inget tal. Försök igen: 23525\n",
      "[]\n"
     ]
    }
   ],
   "source": [
    "full_number_list = random_list(elements=20, max_value=100)\n",
    "print(full_number_list)\n",
    "entered_value = get_number_input()\n",
    "cut_number_list = cut_list(input_list=full_number_list, cutoff_value=entered_value)\n",
    "odd_numbered_list = odd_list(cut_number_list)\n",
    "\n",
    "print(odd_numbered_list)"
   ]
  },
  {
   "cell_type": "markdown",
   "metadata": {},
   "source": [
    "## 6 - Lambda-funktioner\n",
    "\n",
    "Enligt instruktionerna så skapar vi först en funktion för att ta input"
   ]
  },
  {
   "cell_type": "code",
   "execution_count": 59,
   "metadata": {},
   "outputs": [],
   "source": [
    "def get_input():\n",
    "    first_number = int(input(\"Ange det första talet: \"))\n",
    "    second_number = int(input(\"Ange det andra talet: \"))\n",
    "    operator = input(\"Ange räknesätt: \")\n",
    "    return first_number, second_number, operator"
   ]
  },
  {
   "cell_type": "markdown",
   "metadata": {},
   "source": [
    "Sedan en funktion för att returnera lambdafunktion. Här får vi också ett tips om att lägga in lambda-funktioner i en dict. "
   ]
  },
  {
   "cell_type": "code",
   "execution_count": 60,
   "metadata": {},
   "outputs": [],
   "source": [
    "def get_function(operator):\n",
    "    operator_dict = {\"+\": (lambda a, b : a + b),\n",
    "                     \"-\": (lambda a, b : a - b),\n",
    "                     \"*\": (lambda a, b : a * b),\n",
    "                     \"/\": (lambda a, b : a / b)}\n",
    "    \n",
    "    return operator_dict[operator]"
   ]
  },
  {
   "cell_type": "markdown",
   "metadata": {},
   "source": [
    "Vi testar den där funktionen:"
   ]
  },
  {
   "cell_type": "code",
   "execution_count": 61,
   "metadata": {},
   "outputs": [
    {
     "name": "stdout",
     "output_type": "stream",
     "text": [
      "5\n"
     ]
    }
   ],
   "source": [
    "func = get_function(\"+\")\n",
    "\n",
    "result = func(2, 3)\n",
    "\n",
    "print(result)"
   ]
  },
  {
   "cell_type": "markdown",
   "metadata": {},
   "source": [
    "Fungerar utmärkt!\n",
    "\n",
    "Nu sätter vi ihop dem:"
   ]
  },
  {
   "cell_type": "code",
   "execution_count": 62,
   "metadata": {},
   "outputs": [
    {
     "name": "stdout",
     "output_type": "stream",
     "text": [
      "Ange det första talet: 3\n",
      "Ange det andra talet: 7\n",
      "Ange räknesätt: *\n",
      "21\n"
     ]
    }
   ],
   "source": [
    "first_number, second_number, operator = get_input()\n",
    "\n",
    "function = get_function(operator)\n",
    "\n",
    "result = function(first_number, second_number)\n",
    "\n",
    "print(result)"
   ]
  },
  {
   "cell_type": "raw",
   "metadata": {},
   "source": [
    "För att lägga till modulus behöver vi bara ändra i get_function:"
   ]
  },
  {
   "cell_type": "code",
   "execution_count": 63,
   "metadata": {},
   "outputs": [],
   "source": [
    "def get_function(operator):\n",
    "    operator_dict = {\"+\": (lambda a, b : a + b),\n",
    "                     \"-\": (lambda a, b : a - b),\n",
    "                     \"*\": (lambda a, b : a * b),\n",
    "                     \"/\": (lambda a, b : a / b),\n",
    "                     \"%\": (lambda a, b : a % b)}\n",
    "    \n",
    "    return operator_dict[operator]"
   ]
  },
  {
   "cell_type": "code",
   "execution_count": 64,
   "metadata": {},
   "outputs": [
    {
     "name": "stdout",
     "output_type": "stream",
     "text": [
      "Ange det första talet: 18\n",
      "Ange det andra talet: 4\n",
      "Ange räknesätt: %\n",
      "2\n"
     ]
    }
   ],
   "source": [
    "first_number, second_number, operator = get_input()\n",
    "\n",
    "function = get_function(operator)\n",
    "\n",
    "result = function(first_number, second_number)\n",
    "\n",
    "print(result)"
   ]
  },
  {
   "cell_type": "code",
   "execution_count": null,
   "metadata": {},
   "outputs": [],
   "source": []
  }
 ],
 "metadata": {
  "kernelspec": {
   "display_name": "Python 3",
   "language": "python",
   "name": "python3"
  },
  "language_info": {
   "codemirror_mode": {
    "name": "ipython",
    "version": 3
   },
   "file_extension": ".py",
   "mimetype": "text/x-python",
   "name": "python",
   "nbconvert_exporter": "python",
   "pygments_lexer": "ipython3",
   "version": "3.7.1"
  }
 },
 "nbformat": 4,
 "nbformat_minor": 2
}
