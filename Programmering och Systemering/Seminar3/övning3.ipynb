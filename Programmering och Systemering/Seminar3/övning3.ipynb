{
 "metadata": {
  "language_info": {
   "codemirror_mode": {
    "name": "ipython",
    "version": 3
   },
   "file_extension": ".py",
   "mimetype": "text/x-python",
   "name": "python",
   "nbconvert_exporter": "python",
   "pygments_lexer": "ipython3",
   "version": "3.8.5-final"
  },
  "orig_nbformat": 2,
  "kernelspec": {
   "name": "python3",
   "display_name": "Python 3"
  }
 },
 "nbformat": 4,
 "nbformat_minor": 2,
 "cells": [
  {
   "cell_type": "markdown",
   "metadata": {},
   "source": [
    "# Strängar Övning 3"
   ]
  },
  {
   "cell_type": "markdown",
   "metadata": {},
   "source": [
    "## Exempel på strängar"
   ]
  },
  {
   "cell_type": "code",
   "execution_count": 48,
   "metadata": {
    "tags": []
   },
   "outputs": [],
   "source": [
    "\n",
    "firstname = \"johan\"\n",
    "lastname = \"andersson\"\n",
    "tele = \"00468123456789\"\n",
    "\n"
   ]
  },
  {
   "cell_type": "code",
   "execution_count": null,
   "metadata": {
    "tags": []
   },
   "outputs": [],
   "source": [
    "# Uppgift 1: Skriv ut firstname lastname tele\n",
    "\n",
    "print(f\"{firstname} {lastname} {tele}\")"
   ]
  },
  {
   "cell_type": "code",
   "execution_count": 49,
   "metadata": {
    "tags": []
   },
   "outputs": [],
   "source": [
    "# Uppgift 2: Skapa en variabel som heter fullname som tilldelas en sträng innehållande firstname och lastname.\n",
    "\n",
    "fullname = f\"{firstname} {lastname}\""
   ]
  },
  {
   "cell_type": "code",
   "execution_count": 50,
   "metadata": {
    "tags": []
   },
   "outputs": [
    {
     "output_type": "stream",
     "name": "stdout",
     "text": "johan andersson 00468123456789\njohan andersson 00468123456789\njohan andersson 00468123456789\njohan andersson 00468123456789\n"
    }
   ],
   "source": [
    "# Uppgift 3: Skriv ut det hela namnet och tele med fyra olika metoder: enbart print(), f-string, format och printf (%).\n",
    "\n",
    "print(fullname, tele)\n",
    "print(f\"{fullname} {tele}\")\n",
    "print(\"{fullname} {tele}\".format(fullname=fullname, tele=tele))\n",
    "print(\"%s %s\" % (fullname, tele))\n"
   ]
  },
  {
   "cell_type": "code",
   "execution_count": null,
   "metadata": {
    "tags": []
   },
   "outputs": [],
   "source": [
    "# Uppgift 4: Skriv ut längderna av firstname, lastname och fullname\n",
    "\n",
    "for i in [firstname, lastname, tele]:\n",
    "    l = len(i)\n",
    "    print(f\"len({i}): {l}\")"
   ]
  },
  {
   "cell_type": "code",
   "execution_count": 47,
   "metadata": {
    "tags": []
   },
   "outputs": [
    {
     "output_type": "stream",
     "name": "stdout",
     "text": "antal bokstäver i johan andersson: 14\n"
    }
   ],
   "source": [
    "# Uppgift 5: Skriv ut antal bokstäver i fullname\n",
    "l = len(fullname.replace(\" \", \"\"))\n",
    "print(f\"antal bokstäver i {fullname}: {l}\")"
   ]
  },
  {
   "cell_type": "code",
   "execution_count": 51,
   "metadata": {
    "tags": []
   },
   "outputs": [
    {
     "output_type": "stream",
     "name": "stdout",
     "text": "johan => 5\n"
    }
   ],
   "source": [
    "# Uppgift 5: slice:a fullname till de första 5 tecknen och beräkna längden\n",
    "l = len(fullname[0:5])\n",
    "print(f\"{fullname[0:5]} => {l}\")"
   ]
  },
  {
   "cell_type": "code",
   "execution_count": 52,
   "metadata": {
    "tags": []
   },
   "outputs": [
    {
     "output_type": "stream",
     "name": "stdout",
     "text": "JHNADRSN\n"
    }
   ],
   "source": [
    "# Uppgift 6: använd extended slice för att plocka ut varannat tecken samt skriv ut med bara stora tecken.\n",
    "\n",
    "# Antar att den syftar mot att vi ska arbeta med variabeln `fullname`\n",
    "print(fullname.upper()[::2])"
   ]
  },
  {
   "cell_type": "code",
   "execution_count": 54,
   "metadata": {
    "tags": []
   },
   "outputs": [
    {
     "output_type": "stream",
     "name": "stdout",
     "text": "😀\n€\ndel1\ndel2\n"
    }
   ],
   "source": [
    "# Uppgift 7: \n",
    "#   Skriv ut en smiley från unicode med hjälp av \\N{tecken namn}\n",
    "#   Skriv ut ett euro tecken med hjälp av unicode https://www.unicode.org/charts/PDF/U20A0.pdf\n",
    "#   Skriv ut två stränger med ett radbryt med hjälp av en escapesekvens\n",
    "\n",
    "print(\"\\N{GRINNING FACE}\")\n",
    "print(\"\\u20AC\")\n",
    "print(\"del1\\ndel2\")"
   ]
  },
  {
   "cell_type": "code",
   "execution_count": 56,
   "metadata": {
    "tags": []
   },
   "outputs": [
    {
     "output_type": "stream",
     "name": "stdout",
     "text": "blub1\tblub2\nblub3\tblub4\n\t€€€€€\n"
    }
   ],
   "source": [
    "# Uppgift 8:\n",
    "#   Skriv en sträng med två fungerande escapesekvenser exempelvis tab och ett unicode tecken\n",
    "print(\"blub1\\tblub2\\nblub3\\tblub4\\n\\t\\u20AC\\u20AC\\u20AC\\u20AC\\u20AC\")"
   ]
  },
  {
   "cell_type": "code",
   "execution_count": null,
   "metadata": {
    "tags": []
   },
   "outputs": [],
   "source": [
    "# Uppgift 9:\n",
    "# Skriv ut två strängar, där den första ska ha enkelt rakt citattecken och den andra dubbla rakt citattecken\n",
    "# t.ex \n",
    "# 'string1'\n",
    "# \"string2\"\n",
    "\n",
    "print(\"'string1'\")\n",
    "print('\"string2\"')"
   ]
  },
  {
   "cell_type": "code",
   "execution_count": 46,
   "metadata": {
    "tags": []
   },
   "outputs": [
    {
     "output_type": "stream",
     "name": "stdout",
     "text": "Asdf\nAsdf\nasdf\n$ 123.33\n✆ 123123\n"
    }
   ],
   "source": [
    "# Uppgift 10: Skriv ett program som läser in förnamn, efternamn, epost och önskad lönenivå. Programmet ska formatera användarens input fint så att för och efternan har en första stor bokstav, lönenivån ska formateras på amerikanskt vis med \"1000,00\" vid tusental och telefonnumret ska ha en telefonsymbol framför sig\" (tips sätt locale till en_US)\n",
    "\n",
    "# import locale\n",
    "# locate.setLocale(locale.LC_ALL, 'EN_us')\n",
    "\n",
    "firstname = input(\"Ange ditt förnamn >> \").capitalize()\n",
    "lastname = input(\"Ange ditt efternamn >> \").capitalize()\n",
    "mail = input(\"Ange din epost >> \")\n",
    "salary = float(input(\"Ange önskad lönenivå >> \"))\n",
    "telephone_number = \"\\u2706 \" + input(\"Ange telefonnummer >> \")\n",
    "\n",
    "\n",
    "print(firstname)\n",
    "print(lastname)\n",
    "print(mail)\n",
    "print(f\"\\u0024 {salary:,.2f}\")\n",
    "print(telephone_number)\n"
   ]
  },
  {
   "cell_type": "markdown",
   "metadata": {},
   "source": [
    "## Uppgift 11\n",
    "\n",
    "### Specification\n",
    "1. Följande strängar är de enda som får hårdkodas:\n",
    "- (a) \"Jag tYcker om äGg\"\n",
    "- (b) \"inte\"\n",
    "- (c) \"SPAM\"\n",
    "- (d) \" \" (Alltså ett mellanslag)\n",
    "2. Programmet ska INTE ta någon användarinput\n",
    "3. Följande strängmetoder får användas:\n",
    "- (a) capitalize()\n",
    "- (b) join()\n",
    "- (c) lower()\n",
    "- (d) upper()\n",
    "- (e) swapcase()\n",
    "- (f) replace()\n",
    "- (g) split()\n",
    "- (h) rsplit()\n",
    "- (i) title()\n",
    "- (j) format()\n",
    "4. Programmet ska skriva ut vad som gjorts samt hur strängen ser ut efter\n",
    "varje genomförd rad.\n",
    "\n",
    "## Uppgift\n",
    "1. Tilldela de hårdkodade strängarna till varsing variabel.\n",
    "2. Kör någon av metoderna på strängen, exempelvis inital_string.capitalize()\n",
    "3. Skriv ut strängen genom att följa raden ovan med en print-rad. Vad hände?\n",
    "Varför?\n",
    "4. Skriv in hela uttrycket från punkt 2 i print-kommandot. Fungerade det\n",
    "annorlunda nu? Varför?\n",
    "5. Skriv det som en tilldelning, det vill säga:\n",
    "capitalized_string = initial_string.capitalize()\n",
    "6. Skriv ut den nya strängen. Vad blev resultatet nu?\n",
    "7. Använd det du lärt dig i stegen ovan för att skriva ett program som uppfyller\n",
    "specifkationerna. För att ta reda på vad metoderna göra så kan du\n",
    "antingen googla, eller helt enkelt testa dig fram."
   ]
  },
  {
   "cell_type": "code",
   "execution_count": null,
   "metadata": {
    "tags": []
   },
   "outputs": [],
   "source": []
  },
  {
   "cell_type": "code",
   "execution_count": null,
   "metadata": {},
   "outputs": [],
   "source": []
  }
 ]
}