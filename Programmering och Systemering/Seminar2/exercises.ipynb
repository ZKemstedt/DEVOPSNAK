{
 "metadata": {
  "language_info": {
   "codemirror_mode": {
    "name": "ipython",
    "version": 3
   },
   "file_extension": ".py",
   "mimetype": "text/x-python",
   "name": "python",
   "nbconvert_exporter": "python",
   "pygments_lexer": "ipython3",
   "version": "3.8.5-final"
  },
  "orig_nbformat": 2,
  "kernelspec": {
   "name": "python38564bit5aaa988e11494a8f99e5a7c45d6a953d",
   "display_name": "Python 3.8.5 64-bit"
  }
 },
 "nbformat": 4,
 "nbformat_minor": 2,
 "cells": [
  {
   "cell_type": "code",
   "execution_count": null,
   "metadata": {
    "tags": []
   },
   "outputs": [],
   "source": [
    "# Om man skriver \n",
    "A = 5\n",
    "B = A\n",
    "A = 7\n",
    "C = A+B\n",
    "# Vad blir då värdet på C? Vad trodde du att det skulle bli?\n",
    "\n",
    "print(C)\n",
    "# 12, eftersom att 7 + 5 = 12.\n",
    "# B = A: 'assign the value that A points to,  to B'"
   ]
  },
  {
   "cell_type": "code",
   "execution_count": null,
   "metadata": {
    "tags": []
   },
   "outputs": [],
   "source": [
    "# Om man skriver\n",
    "A = 7 * 3 +1\n",
    "# Vad blir värdet på A?\n",
    "\n",
    "print(A)\n",
    "# 22, eftersom att * prioriteras över +"
   ]
  },
  {
   "cell_type": "code",
   "execution_count": null,
   "metadata": {
    "tags": []
   },
   "outputs": [],
   "source": [
    "# Om\n",
    "A = 20/4*2\n",
    "# Vad blir A? Vad kan man göra för att slippa missförstånd kring vad A blir?\n",
    "\n",
    "print(A)\n",
    "# Standard mathematical priority rules apply to the standard mathematical operations such as\n",
    "# Paranthesis > Multiplication = Division > Addition = Subtraction.\n",
    "# Other than this hierarcal priority, the expression evaluates from left to right."
   ]
  },
  {
   "cell_type": "code",
   "execution_count": null,
   "metadata": {},
   "outputs": [],
   "source": [
    "# Om\n",
    "A = 1\n",
    "B = A\n",
    "A = A + B\n",
    "B = A + B\n",
    "C = A + B\n",
    "# Vad blir värdet på C?\n",
    "\n",
    "print(C)\n",
    "# 5\n",
    "\n"
   ]
  },
  {
   "cell_type": "code",
   "execution_count": null,
   "metadata": {
    "tags": []
   },
   "outputs": [],
   "source": [
    "# Använd python för att skriva “Hello World” till skärmen\n",
    "\n",
    "print(\"Hello World\")"
   ]
  },
  {
   "cell_type": "code",
   "execution_count": null,
   "metadata": {
    "tags": []
   },
   "outputs": [],
   "source": [
    "# Skriv ett program som först ber användaren om tal A, sedan tal B\n",
    "#   a. Skriv ut summan av de båda talen\n",
    "#   b. Skriv ut skillnaden mellan de båda talen\n",
    "#   c. Skriv ut de båda talen multiplicerade med varandra.\n",
    "\n",
    "a = int(input(\"Ange tal 1 >> \"))\n",
    "b = int(input(\"Ange tal 2 >> \"))\n",
    "\n",
    "print(a+b)\n",
    "print(a-b)\n",
    "print(a*b)"
   ]
  },
  {
   "cell_type": "code",
   "execution_count": null,
   "metadata": {
    "tags": []
   },
   "outputs": [],
   "source": [
    "# Ta in två tal från användaren som i uppgiften ovan och\n",
    "#   a. Använd division för att se vad de olika talen blir delat på varandra\n",
    "#   b. Samma som 3.a, men använd heltalsdivision, skriv resultatet till skärm.\n",
    "\n",
    "a = int(input(\"Ange tal 1 >> \"))\n",
    "b = int(input(\"Ange tal 2 >> \"))\n",
    "\n",
    "print(a/b)\n",
    "print(b/a)\n",
    "\n",
    "print(a//b)\n",
    "print(b//a)"
   ]
  },
  {
   "cell_type": "code",
   "execution_count": null,
   "metadata": {
    "tags": []
   },
   "outputs": [],
   "source": [
    "# Skriv ett program som tar in radien på en cirkel från användaren och beräknar cirkelns\n",
    "# area\n",
    "\n",
    "from math import pi\n",
    "radius = int(input(\"Ange circelns radie >> \"))\n",
    "area = radius * pi ** 2\n",
    "print(area)"
   ]
  },
  {
   "cell_type": "code",
   "execution_count": null,
   "metadata": {
    "tags": []
   },
   "outputs": [],
   "source": [
    "# Skriv ett program som tar höjden och basen på en triangel som input, och utifrån det\n",
    "# beräknar triangels area\n",
    "\n",
    "height = int(input(\"Ange triangels höjd >> \"))\n",
    "width = int(input(\"Ange triangels bas >> \"))\n",
    "area = (height + width) / 2\n",
    "print(area)"
   ]
  },
  {
   "cell_type": "code",
   "execution_count": null,
   "metadata": {
    "tags": []
   },
   "outputs": [],
   "source": [
    "# Skriv ett program som löser ekvationen (x+y)*(x+y)\n",
    "x = int(input(\"Ange värdet på x >> \"))\n",
    "y = int(input(\"Ange värdet på y >> \"))\n",
    "result = (x + y) * (x + y)\n",
    "print(result)"
   ]
  },
  {
   "cell_type": "code",
   "execution_count": null,
   "metadata": {},
   "outputs": [],
   "source": [
    "# Skriv ett program som räknar ut hypotenusan I en rätsidig triangel\n",
    "# Vägledning: Ni behöver skriva in from math import sqrt i källkodsfilen\n",
    "\n",
    "from math import sqrt\n",
    "height = int(input(\"Ange triangels höjd >> \"))\n",
    "width = int(input(\"Ange triangels bas >> \"))\n",
    "hyp = sqrt(height ** 2 + width ** 2)\n",
    "print(hyp)"
   ]
  },
  {
   "cell_type": "code",
   "execution_count": null,
   "metadata": {
    "tags": []
   },
   "outputs": [],
   "source": [
    "# Skriv ett program som räknar ut antalet timmar och minuter det går på 455 minuter.\n",
    "minutes = 455\n",
    "\n",
    "h = minutes // 60\n",
    "m = minutes % 60\n",
    "\n",
    "# h, m = divmod(minutes, 60)\n",
    "\n",
    "print(h, m)"
   ]
  },
  {
   "cell_type": "code",
   "execution_count": null,
   "metadata": {
    "tags": []
   },
   "outputs": [],
   "source": [
    "# Skriv ett program som ber användaren att skriva in ett antal sekunder och sedan räknar\n",
    "# ut hur många dagar, timmar, minuter och sekunder det går på de sekunderna.\n",
    "\n",
    "s = int(input(\"Ange antal sekunder >> \"))\n",
    "m, s = divmod(s, 60)\n",
    "h, m = divmod(m, 60)\n",
    "d, m = divmod(h, 24)\n",
    "\n",
    "print(f\"{d}d {h}h {m}m {s}\")\n"
   ]
  },
  {
   "cell_type": "code",
   "execution_count": null,
   "metadata": {},
   "outputs": [],
   "source": [
    "# a = okänt variabel b = okänt variabel. (Vilka som helst, integer, float eller string som du\n",
    "# sätter själv) a få samma värde som b och b samma som a :\n",
    "#   a. Skriv koden som gör det som står på raden ovan.\n",
    "#   Använd gärna hjälp variabel “c” för att klara uppgiften.\n",
    "#   b. Skriv koden som gör det utan att använda någon hjälpvariabel.\n",
    "\n",
    "a = \"yes\"\n",
    "b = 15\n",
    "c = None\n",
    "\n",
    "c = a\n",
    "a = b\n",
    "b = c\n",
    "\n",
    "a, b = b, a\n"
   ]
  },
  {
   "cell_type": "code",
   "execution_count": null,
   "metadata": {},
   "outputs": [],
   "source": [
    "# Använd multipel tilldelning för att ge x, y, z samma värde\n",
    "x = y = z = 1"
   ]
  },
  {
   "cell_type": "code",
   "execution_count": null,
   "metadata": {},
   "outputs": [],
   "source": [
    "# Be användaren att skriva in olika temperaturer, konvertera sedan temperaturen till\n",
    "# fahrenheit Fahrenheit = Celsius * 9/5 + 32\n",
    "\n",
    "temp1C = int(input(\"Ange en temperatur i grader Celsius (1/3) >> \"))\n",
    "temp2C = int(input(\"Ange en temperatur i grader Celsius (2/3) >> \"))\n",
    "temp3C = int(input(\"Ange en temperatur i grader Celsius (3/3) >> \"))\n",
    "\n",
    "def fahrenheit(celsisus: int) -> int:\n",
    "    return celsisus * 9 / 5 + 32\n",
    "    \n",
    "print(fahrenheit(temp1C))\n",
    "print(fahrenheit(temp2C))\n",
    "print(fahrenheit(temp3C))"
   ]
  },
  {
   "cell_type": "code",
   "execution_count": null,
   "metadata": {
    "tags": []
   },
   "outputs": [],
   "source": [
    "# Skapa ett program som frågar användaren efter deras namn och ålder. Programmet ska\n",
    "# sedan skriva ut vilket år användaren fyller 100 och vilket år användaren föddes.\n",
    "\n",
    "from datetime import date\n",
    "this_year = date.today().year\n",
    "\n",
    "name = input(\"Ange ditt namn >> \")\n",
    "age = int(input(\"Ange din ålder i antal år >> \"))\n",
    "age100 = this_year + 100 - age\n",
    "age0 = this_year - age\n",
    "\n",
    "print(f\"Hjärtligt välkommen {name}!\")\n",
    "print(f\"år {age100} blir du 100 år gammal.\")\n",
    "print(f\"Du föddes år {age0}.\")"
   ]
  },
  {
   "cell_type": "code",
   "execution_count": null,
   "metadata": {
    "tags": []
   },
   "outputs": [],
   "source": [
    "# Skapa ett program som frågar användaren efter ett nummer. Beroende på om siffran är\n",
    "# udda eller jämnt ska programmet skriva ut olika meddelanden. Tips: I denna uppgift\n",
    "# behöver du en så kallad if-sats. Använd google för att förstå hur en if-sats fungerar\n",
    "\n",
    "number = int(input(\"Ange ett tal >> \"))\n",
    "if number % 2 == 0:\n",
    "    print(\"This is an equal number.\")\n",
    "else:\n",
    "    print(\"This is an odd number.\")"
   ]
  },
  {
   "cell_type": "code",
   "execution_count": null,
   "metadata": {
    "tags": []
   },
   "outputs": [],
   "source": [
    "# Din kollega har skickat ett litet program till dig enligt nedan. Det fungerar visserligen,\n",
    "# men vad har du för kommentarer till din kollegas programmeringsstil?\n",
    "\n",
    "'''\n",
    "a. print(\"Detta är mitt bästa program\") # Här skriver jag ut en liten välkomsthälsning till användaren av detta program\n",
    "b. A = int(input())\n",
    "c. Ålder = int(A) # Skriv till fönster\n",
    "d. #minInputVariabel = float(A)\n",
    "e. print(\"Ålder\", A)\n",
    "'''\n",
    "\n",
    "# Kort Svar:\n",
    "# Hej {kollegans namn}! Koden du har skickat till mig följer inte våra etablerade kodstilsregler, uppdattera din kod efter dem innan du återkommer.\n",
    "\n",
    "\n",
    "# Långt Svar:\n",
    "\n",
    "print(\"Detta är mitt bästa program\") # Här skriver jag ut en liten välkomsthälsning till användaren av detta program\n",
    "'''\n",
    "print och dess hårdkodade argument är starkt självförklarande, kommentaren är direkt onödig och dessutom missvisande eftersom att det inte riktigt är en bra 'hälsning'.\n",
    "Ett bättre alternativ skulle vara:\n",
    "print(\"Det här programmet ber dig ange din ålder som en siffra och skriver sedan ut det på skärmen.\")\n",
    "'''\n",
    "\n",
    "A = int(input())\n",
    "'''\n",
    "1. A är inte ett beskrivande eller meningfullt variabelnamn.\n",
    "2. Konvertering av input() till int är inte nödvändlig eftersom att A inte används till någonting annat än att skrivas ut igen senare.\n",
    "3. input() saknar 'user-prompt'-argument\n",
    "'''\n",
    "\n",
    "Ålder = int(A) # Skriv till fönster\n",
    "'''\n",
    "1. Ålder som variabelnamn avråds...\n",
    "1.1 Stor bokstav som variabelnamn avråds\n",
    "1.2 åäö i variabelnamn avråds\n",
    "2. Variabeln används inte och är därmed onödig\n",
    "3. A har redan konverterats till int på förra raden, så denna konvertering är onödig.\n",
    "4. Koden är självförklarande (exl A, se feedback från övre kodraden.) och behöver inte någon kommentar.\n",
    "5. Kommentaren är direkt felaktig/missvisande.\n",
    "'''\n",
    "\n",
    "#minInputVariabel = float(A)\n",
    "'''\n",
    "Ursäkta?\n",
    "'''\n",
    "\n",
    "print(\"Ålder\", A)\n",
    "'''\n",
    "print(f\"Ålder {A}\") rekommenderas starkt då A är ett användargenererat värde\n",
    "och representerar därmed en säkerhetsrisk.\n",
    "'''\n"
   ]
  }
 ]
}